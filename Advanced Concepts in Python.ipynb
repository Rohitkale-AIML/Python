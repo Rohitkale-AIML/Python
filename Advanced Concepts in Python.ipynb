{
 "cells": [
  {
   "cell_type": "markdown",
   "id": "e9c33f6d",
   "metadata": {},
   "source": [
    "# Difference between Shallow Copy and Deep Copy"
   ]
  },
  {
   "cell_type": "markdown",
   "id": "43f476ff",
   "metadata": {},
   "source": [
    "### Assignment Operator"
   ]
  },
  {
   "cell_type": "code",
   "execution_count": 1,
   "id": "04c05bc8",
   "metadata": {},
   "outputs": [],
   "source": [
    "a = [1,2,[3,4,5],6,7]\n",
    "b = a"
   ]
  },
  {
   "cell_type": "code",
   "execution_count": 2,
   "id": "6b189aca",
   "metadata": {},
   "outputs": [
    {
     "name": "stdout",
     "output_type": "stream",
     "text": [
      "[1, 2, [3, 4, 5], 6, 7] [1, 2, [3, 4, 5], 6, 7]\n"
     ]
    }
   ],
   "source": [
    "print(a, b)"
   ]
  },
  {
   "cell_type": "code",
   "execution_count": 3,
   "id": "738505d8",
   "metadata": {},
   "outputs": [
    {
     "name": "stdout",
     "output_type": "stream",
     "text": [
      "1246364315072 1246364315072\n"
     ]
    }
   ],
   "source": [
    "print(id(a), id(b))"
   ]
  },
  {
   "cell_type": "code",
   "execution_count": 4,
   "id": "90b64399",
   "metadata": {},
   "outputs": [],
   "source": [
    "a[1] = 'Index 1'\n",
    "b[2][2] = 'Index 2 2'"
   ]
  },
  {
   "cell_type": "code",
   "execution_count": 5,
   "id": "05279281",
   "metadata": {},
   "outputs": [
    {
     "name": "stdout",
     "output_type": "stream",
     "text": [
      "[1, 'Index 1', [3, 4, 'Index 2 2'], 6, 7] [1, 'Index 1', [3, 4, 'Index 2 2'], 6, 7]\n"
     ]
    }
   ],
   "source": [
    "print(a, b)"
   ]
  },
  {
   "cell_type": "code",
   "execution_count": 6,
   "id": "a40fc0f5",
   "metadata": {},
   "outputs": [
    {
     "name": "stdout",
     "output_type": "stream",
     "text": [
      "1246364006896 1246364006896\n"
     ]
    }
   ],
   "source": [
    "print(id(a[1]), id(b[1]))"
   ]
  },
  {
   "cell_type": "markdown",
   "id": "6ae6e944",
   "metadata": {},
   "source": [
    "![Sample Image](https://github.com/Rohitkale-AIML/Python/blob/main/helper_images/Screenshot_Python_01.png?raw=true)"
   ]
  },
  {
   "cell_type": "markdown",
   "id": "67de187a",
   "metadata": {},
   "source": [
    "### Shallow Copy"
   ]
  },
  {
   "cell_type": "code",
   "execution_count": 7,
   "id": "94f6537c",
   "metadata": {},
   "outputs": [],
   "source": [
    "from copy import copy, deepcopy"
   ]
  },
  {
   "cell_type": "code",
   "execution_count": 8,
   "id": "4aec1368",
   "metadata": {},
   "outputs": [],
   "source": [
    "a = [1,2,[3,4,5],6,7]\n",
    "b = copy(a)"
   ]
  },
  {
   "cell_type": "code",
   "execution_count": 9,
   "id": "e7ebe297",
   "metadata": {},
   "outputs": [
    {
     "name": "stdout",
     "output_type": "stream",
     "text": [
      "[1, 2, [3, 4, 5], 6, 7] [1, 2, [3, 4, 5], 6, 7]\n"
     ]
    }
   ],
   "source": [
    "print(a, b)"
   ]
  },
  {
   "cell_type": "code",
   "execution_count": 10,
   "id": "6af8ae18",
   "metadata": {},
   "outputs": [
    {
     "name": "stdout",
     "output_type": "stream",
     "text": [
      "1246364328576 1246364328768\n"
     ]
    }
   ],
   "source": [
    "print(id(a), id(b))"
   ]
  },
  {
   "cell_type": "code",
   "execution_count": 11,
   "id": "cbc0e848",
   "metadata": {},
   "outputs": [],
   "source": [
    "a[1] = 'Index 1'\n",
    "b[2][2] = 'Index 2 2'"
   ]
  },
  {
   "cell_type": "code",
   "execution_count": 12,
   "id": "fb550d7a",
   "metadata": {},
   "outputs": [
    {
     "name": "stdout",
     "output_type": "stream",
     "text": [
      "[1, 'Index 1', [3, 4, 'Index 2 2'], 6, 7] [1, 2, [3, 4, 'Index 2 2'], 6, 7]\n"
     ]
    }
   ],
   "source": [
    "print(a, b)"
   ]
  },
  {
   "cell_type": "code",
   "execution_count": 13,
   "id": "413e58a1",
   "metadata": {},
   "outputs": [
    {
     "name": "stdout",
     "output_type": "stream",
     "text": [
      "1246364248240 1246281820496\n"
     ]
    }
   ],
   "source": [
    "print(id(a[1]), id(b[1]))"
   ]
  },
  {
   "cell_type": "code",
   "execution_count": 14,
   "id": "6dcd0a2d",
   "metadata": {},
   "outputs": [
    {
     "name": "stdout",
     "output_type": "stream",
     "text": [
      "1246364259632 1246364259632\n"
     ]
    }
   ],
   "source": [
    "print(id(a[2][2]), id(b[2][2]))"
   ]
  },
  {
   "cell_type": "markdown",
   "id": "0148842b",
   "metadata": {},
   "source": [
    "![sample_image](https://github.com/Rohitkale-AIML/Python/blob/main/helper_images/Screenshot_Python_02.png?raw=true)"
   ]
  },
  {
   "cell_type": "markdown",
   "id": "be462777",
   "metadata": {},
   "source": [
    "### Deep Copy"
   ]
  },
  {
   "cell_type": "code",
   "execution_count": 15,
   "id": "0611c90b",
   "metadata": {},
   "outputs": [],
   "source": [
    "a = [1,2,[3,4,5],6,7]\n",
    "b = deepcopy(a)"
   ]
  },
  {
   "cell_type": "code",
   "execution_count": 16,
   "id": "5369fec0",
   "metadata": {},
   "outputs": [
    {
     "name": "stdout",
     "output_type": "stream",
     "text": [
      "[1, 2, [3, 4, 5], 6, 7] [1, 2, [3, 4, 5], 6, 7]\n"
     ]
    }
   ],
   "source": [
    "print(a, b)"
   ]
  },
  {
   "cell_type": "code",
   "execution_count": 17,
   "id": "d3f5c9d9",
   "metadata": {},
   "outputs": [
    {
     "name": "stdout",
     "output_type": "stream",
     "text": [
      "1246364332160 1246364315328\n"
     ]
    }
   ],
   "source": [
    "print(id(a), id(b))"
   ]
  },
  {
   "cell_type": "code",
   "execution_count": 18,
   "id": "6e5a004a",
   "metadata": {},
   "outputs": [],
   "source": [
    "a[1] = 'Index 1'\n",
    "b[2][2] = 'Index 2 2'"
   ]
  },
  {
   "cell_type": "code",
   "execution_count": 19,
   "id": "9a4c2856",
   "metadata": {},
   "outputs": [
    {
     "name": "stdout",
     "output_type": "stream",
     "text": [
      "[1, 'Index 1', [3, 4, 5], 6, 7] [1, 2, [3, 4, 'Index 2 2'], 6, 7]\n"
     ]
    }
   ],
   "source": [
    "print(a, b)"
   ]
  },
  {
   "cell_type": "code",
   "execution_count": 20,
   "id": "63a282cd",
   "metadata": {},
   "outputs": [
    {
     "name": "stdout",
     "output_type": "stream",
     "text": [
      "1246364272304 1246281820496\n"
     ]
    }
   ],
   "source": [
    "print(id(a[1]), id(b[1]))"
   ]
  },
  {
   "cell_type": "code",
   "execution_count": 21,
   "id": "a8c0a6ca",
   "metadata": {},
   "outputs": [
    {
     "name": "stdout",
     "output_type": "stream",
     "text": [
      "1246281820592 1246364275376\n"
     ]
    }
   ],
   "source": [
    "print(id(a[2][2]), id(b[2][2]))"
   ]
  },
  {
   "cell_type": "markdown",
   "id": "9d6431be",
   "metadata": {},
   "source": [
    "![sample_image](https://github.com/Rohitkale-AIML/Python/blob/main/helper_images/Screenshot_Python_03.png?raw=true)"
   ]
  },
  {
   "cell_type": "markdown",
   "id": "da5cf6e0",
   "metadata": {},
   "source": [
    "- **Assignment Operator:** Simple assignment of values to variables.\n",
    "- **Shallow Copy:** Creates a new object but retains references to nested objects.\n",
    "- **Deep Copy:** Creates a completely independent copy with copies of all nested objects."
   ]
  },
  {
   "cell_type": "markdown",
   "id": "2038a061",
   "metadata": {},
   "source": [
    "# Lambda Function or Anonymus Function"
   ]
  },
  {
   "cell_type": "code",
   "execution_count": 22,
   "id": "549038ef",
   "metadata": {},
   "outputs": [
    {
     "name": "stdout",
     "output_type": "stream",
     "text": [
      "stop\n"
     ]
    }
   ],
   "source": [
    "signal = 'red'\n",
    "action = 'stop' if signal == 'red' else 'go' # if-else in one line\n",
    "print(action)"
   ]
  },
  {
   "cell_type": "code",
   "execution_count": 23,
   "id": "aa79050d",
   "metadata": {},
   "outputs": [
    {
     "data": {
      "text/plain": [
       "100"
      ]
     },
     "execution_count": 23,
     "metadata": {},
     "output_type": "execute_result"
    }
   ],
   "source": [
    "def square(x):\n",
    "    return x**2\n",
    "square(10)"
   ]
  },
  {
   "cell_type": "code",
   "execution_count": 24,
   "id": "281ff692",
   "metadata": {},
   "outputs": [
    {
     "data": {
      "text/plain": [
       "<function __main__.<lambda>(x)>"
      ]
     },
     "execution_count": 24,
     "metadata": {},
     "output_type": "execute_result"
    }
   ],
   "source": [
    "lambda x: x**2       # function in one line (consise way)"
   ]
  },
  {
   "cell_type": "code",
   "execution_count": 25,
   "id": "6731d64b",
   "metadata": {},
   "outputs": [
    {
     "data": {
      "text/plain": [
       "function"
      ]
     },
     "execution_count": 25,
     "metadata": {},
     "output_type": "execute_result"
    }
   ],
   "source": [
    "type(lambda x: x**2)"
   ]
  },
  {
   "cell_type": "markdown",
   "id": "b0bb92d2",
   "metadata": {},
   "source": [
    "### syntax:    lambda_keyword    input_expression:     output_expression"
   ]
  },
  {
   "cell_type": "code",
   "execution_count": 26,
   "id": "e7d7f56c",
   "metadata": {},
   "outputs": [
    {
     "data": {
      "text/plain": [
       "100"
      ]
     },
     "execution_count": 26,
     "metadata": {},
     "output_type": "execute_result"
    }
   ],
   "source": [
    "(lambda x: x**2)(10)"
   ]
  },
  {
   "cell_type": "code",
   "execution_count": 27,
   "id": "d925932a",
   "metadata": {},
   "outputs": [
    {
     "data": {
      "text/plain": [
       "100"
      ]
     },
     "execution_count": 27,
     "metadata": {},
     "output_type": "execute_result"
    }
   ],
   "source": [
    "fn = (lambda x: x**2)\n",
    "fn(10)"
   ]
  },
  {
   "cell_type": "code",
   "execution_count": 28,
   "id": "7822ed1f",
   "metadata": {},
   "outputs": [
    {
     "data": {
      "text/plain": [
       "5"
      ]
     },
     "execution_count": 28,
     "metadata": {},
     "output_type": "execute_result"
    }
   ],
   "source": [
    "(lambda x, y: x + y)(2, 3)"
   ]
  },
  {
   "cell_type": "code",
   "execution_count": 29,
   "id": "424f00a4",
   "metadata": {},
   "outputs": [
    {
     "data": {
      "text/plain": [
       "5.0"
      ]
     },
     "execution_count": 29,
     "metadata": {},
     "output_type": "execute_result"
    }
   ],
   "source": [
    "(lambda num: (num - 10) * 2 / 4)(20)"
   ]
  },
  {
   "cell_type": "markdown",
   "id": "f1216c53",
   "metadata": {},
   "source": [
    "### Higher Order Functions"
   ]
  },
  {
   "cell_type": "code",
   "execution_count": 30,
   "id": "647e07c5",
   "metadata": {},
   "outputs": [
    {
     "data": {
      "text/plain": [
       "<function __main__.nth_multiple.<locals>.<lambda>(x)>"
      ]
     },
     "execution_count": 30,
     "metadata": {},
     "output_type": "execute_result"
    }
   ],
   "source": [
    "def nth_multiple(num):\n",
    "    return lambda x: num*x\n",
    "\n",
    "nth_multiple(10)"
   ]
  },
  {
   "cell_type": "code",
   "execution_count": 31,
   "id": "0218d527",
   "metadata": {},
   "outputs": [
    {
     "data": {
      "text/plain": [
       "30"
      ]
     },
     "execution_count": 31,
     "metadata": {},
     "output_type": "execute_result"
    }
   ],
   "source": [
    "n = nth_multiple(10)\n",
    "n(3)"
   ]
  },
  {
   "cell_type": "code",
   "execution_count": 32,
   "id": "5c48cf00",
   "metadata": {},
   "outputs": [
    {
     "name": "stdout",
     "output_type": "stream",
     "text": [
      "Hello all\n",
      "10\n"
     ]
    }
   ],
   "source": [
    "def outer():\n",
    "    num = 10\n",
    "    def inner():\n",
    "        print(\"Hello all\")\n",
    "    inner()\n",
    "    print(num)\n",
    "outer()"
   ]
  },
  {
   "cell_type": "code",
   "execution_count": 33,
   "id": "35390f74",
   "metadata": {},
   "outputs": [],
   "source": [
    "def outer(num):\n",
    "    num = 10\n",
    "    def inner(x):\n",
    "        return x + num\n",
    "    return inner"
   ]
  },
  {
   "cell_type": "code",
   "execution_count": 34,
   "id": "ac32b09a",
   "metadata": {},
   "outputs": [
    {
     "data": {
      "text/plain": [
       "<function __main__.outer.<locals>.inner(x)>"
      ]
     },
     "execution_count": 34,
     "metadata": {},
     "output_type": "execute_result"
    }
   ],
   "source": [
    "outer(10)"
   ]
  },
  {
   "cell_type": "code",
   "execution_count": 35,
   "id": "1ad1690c",
   "metadata": {},
   "outputs": [
    {
     "data": {
      "text/plain": [
       "15"
      ]
     },
     "execution_count": 35,
     "metadata": {},
     "output_type": "execute_result"
    }
   ],
   "source": [
    "n = outer(10)\n",
    "n(5)"
   ]
  },
  {
   "cell_type": "code",
   "execution_count": 36,
   "id": "00fadb9f",
   "metadata": {},
   "outputs": [],
   "source": [
    "def square(x):\n",
    "    return x**2\n",
    "def cube(x):\n",
    "    return x**3"
   ]
  },
  {
   "cell_type": "code",
   "execution_count": 37,
   "id": "19c708b5",
   "metadata": {},
   "outputs": [
    {
     "name": "stdout",
     "output_type": "stream",
     "text": [
      "100\n",
      "1000\n"
     ]
    }
   ],
   "source": [
    "funcs = {'square': square, 'cube': cube}\n",
    "for k in funcs:\n",
    "    print(funcs[k](10))"
   ]
  },
  {
   "cell_type": "code",
   "execution_count": 38,
   "id": "2bf1d79c",
   "metadata": {},
   "outputs": [
    {
     "name": "stdout",
     "output_type": "stream",
     "text": [
      "[1, 2, 3]\n",
      "[99, 2, 3]\n",
      "[99, 2, 3]\n"
     ]
    }
   ],
   "source": [
    "# call by reference\n",
    "def modify_content(y):\n",
    "    y[0] = 99\n",
    "    return y\n",
    "\n",
    "x = [1, 2, 3]\n",
    "print(x)\n",
    "print(modify_content(x))\n",
    "print(x)"
   ]
  },
  {
   "cell_type": "markdown",
   "id": "b30587b1",
   "metadata": {},
   "source": [
    "![sample_image](https://github.com/Rohitkale-AIML/Python/blob/main/helper_images/Screenshot_Python_05.png?raw=true)"
   ]
  },
  {
   "cell_type": "code",
   "execution_count": 39,
   "id": "eaaad433",
   "metadata": {},
   "outputs": [
    {
     "name": "stdout",
     "output_type": "stream",
     "text": [
      "[1, 2, 3]\n",
      "[4, 5, 6]\n",
      "[1, 2, 3]\n"
     ]
    }
   ],
   "source": [
    "# call by reference\n",
    "def modify_content(y):\n",
    "    y = [4, 5, 6]\n",
    "    return y\n",
    "\n",
    "x = [1, 2, 3]\n",
    "print(x)\n",
    "print(modify_content(x))\n",
    "print(x)"
   ]
  },
  {
   "cell_type": "markdown",
   "id": "75b6bd39",
   "metadata": {},
   "source": [
    "![sample_image](https://github.com/Rohitkale-AIML/Python/blob/main/helper_images/Screenshot_Python_04.png?raw=true)"
   ]
  },
  {
   "cell_type": "code",
   "execution_count": 40,
   "id": "032fc0c0",
   "metadata": {},
   "outputs": [
    {
     "name": "stdout",
     "output_type": "stream",
     "text": [
      "0\n",
      "[1, 2, 3, 4] 4\n"
     ]
    }
   ],
   "source": [
    "def access(lst, num):\n",
    "    lst.append(num)\n",
    "    num -= 4\n",
    "    return num\n",
    "\n",
    "lst = [1,2,3]\n",
    "num = 4\n",
    "print(access(lst, num))\n",
    "print(lst, num)"
   ]
  },
  {
   "cell_type": "markdown",
   "id": "cd72fda8",
   "metadata": {},
   "source": [
    "# Functional Programming"
   ]
  },
  {
   "cell_type": "code",
   "execution_count": 41,
   "id": "0c7a490d",
   "metadata": {},
   "outputs": [
    {
     "name": "stdout",
     "output_type": "stream",
     "text": [
      "5\n"
     ]
    }
   ],
   "source": [
    "x = 5\n",
    "x2 = 2*x\n",
    "x3 = x2 + 1\n",
    "print(x)"
   ]
  },
  {
   "cell_type": "code",
   "execution_count": 42,
   "id": "a2aaec05",
   "metadata": {},
   "outputs": [
    {
     "name": "stdout",
     "output_type": "stream",
     "text": [
      "5\n",
      "11\n",
      "5\n"
     ]
    }
   ],
   "source": [
    "x = 5\n",
    "def ops(x):\n",
    "    x = 2*x\n",
    "    x += 1\n",
    "    return x\n",
    "\n",
    "print(x)\n",
    "print(ops(x))\n",
    "print(x)"
   ]
  },
  {
   "cell_type": "markdown",
   "id": "4af3f228",
   "metadata": {},
   "source": [
    "**Data will remain separate from changes/mutation**\n",
    "\n",
    "**Function is first-class citizen**\n",
    " - funciton will be treated like object\n",
    " - function can return another function (higher order function)\n",
    " - function can be stored in dictionary"
   ]
  },
  {
   "cell_type": "markdown",
   "id": "34db1162",
   "metadata": {},
   "source": [
    "## In-built Functions"
   ]
  },
  {
   "cell_type": "markdown",
   "id": "99123311",
   "metadata": {},
   "source": [
    "### map(func, *iterables)"
   ]
  },
  {
   "cell_type": "code",
   "execution_count": 43,
   "id": "6c571bd9",
   "metadata": {},
   "outputs": [],
   "source": [
    "# parameter => def fun(x, y, z):\n",
    "# arg => fun(10, 20, 30)\n",
    "# kwarg => fun(a=10, b=20, c=30) (key-value pairs)"
   ]
  },
  {
   "cell_type": "markdown",
   "id": "cb6a74ce",
   "metadata": {},
   "source": [
    "- \\*args deals with variable positional arguments.\n",
    "- \\**kwargs deals with variable keyword arguments.\n",
    "- \\*args collects additional positional arguments into a tuple.\n",
    "- \\**kwargs collects additional keyword arguments into a dictionary."
   ]
  },
  {
   "cell_type": "code",
   "execution_count": 44,
   "id": "43bbbb01",
   "metadata": {},
   "outputs": [],
   "source": [
    "def example_function_arg(*args):\n",
    "    for arg in args:\n",
    "        print(arg)\n",
    "\n",
    "def example_function_kwargs(**kwargs):\n",
    "    for key, value in kwargs.items():\n",
    "        print(f\"{key}: {value}\")"
   ]
  },
  {
   "cell_type": "code",
   "execution_count": 45,
   "id": "b02438e9",
   "metadata": {},
   "outputs": [
    {
     "name": "stdout",
     "output_type": "stream",
     "text": [
      "Sum: 8\n",
      "Sum: 22\n",
      "Sum: 17\n"
     ]
    }
   ],
   "source": [
    "def adder(*num):\n",
    "    sum = 0    \n",
    "    for n in num:\n",
    "        sum = sum + n\n",
    "    print(\"Sum:\",sum)\n",
    "\n",
    "adder(3,5)\n",
    "adder(4,5,6,7)\n",
    "adder(1,2,3,5,6)"
   ]
  },
  {
   "cell_type": "code",
   "execution_count": 46,
   "id": "4f50d748",
   "metadata": {},
   "outputs": [
    {
     "name": "stdout",
     "output_type": "stream",
     "text": [
      "\n",
      "Data type of argument: <class 'dict'>\n",
      "Firstname is Sita\n",
      "Lastname is Sharma\n",
      "Age is 22\n",
      "Phone is 1234567890\n",
      "\n",
      "Data type of argument: <class 'dict'>\n",
      "Firstname is John\n",
      "Lastname is Wood\n",
      "Email is johnwood@nomail.com\n",
      "Country is Wakanda\n",
      "Age is 25\n",
      "Phone is 9876543210\n"
     ]
    }
   ],
   "source": [
    "def intro(**data):\n",
    "    print(\"\\nData type of argument:\",type(data))\n",
    "    for key, value in data.items():\n",
    "        print(\"{} is {}\".format(key,value))\n",
    "\n",
    "intro(Firstname=\"Sita\", Lastname=\"Sharma\", Age=22, Phone=1234567890)\n",
    "intro(Firstname=\"John\", Lastname=\"Wood\", Email=\"johnwood@nomail.com\", Country=\"Wakanda\", Age=25, Phone=9876543210)"
   ]
  },
  {
   "cell_type": "code",
   "execution_count": 47,
   "id": "27216f46",
   "metadata": {},
   "outputs": [],
   "source": [
    "data = [1, 2, 3, 4]\n",
    "def twice(x):\n",
    "    return 2*x"
   ]
  },
  {
   "cell_type": "code",
   "execution_count": 48,
   "id": "26185e13",
   "metadata": {},
   "outputs": [
    {
     "data": {
      "text/plain": [
       "<map at 0x122311e7a90>"
      ]
     },
     "execution_count": 48,
     "metadata": {},
     "output_type": "execute_result"
    }
   ],
   "source": [
    "map(twice, data) # map itself is interable object"
   ]
  },
  {
   "cell_type": "code",
   "execution_count": 49,
   "id": "13cff8f8",
   "metadata": {},
   "outputs": [
    {
     "name": "stdout",
     "output_type": "stream",
     "text": [
      "2\n",
      "4\n",
      "6\n",
      "8\n",
      "[1, 2, 3, 4]\n"
     ]
    }
   ],
   "source": [
    "for i in map(lambda x: x*2, data):\n",
    "    print(i)\n",
    "print(data)"
   ]
  },
  {
   "cell_type": "code",
   "execution_count": 50,
   "id": "ff6c334a",
   "metadata": {},
   "outputs": [
    {
     "data": {
      "text/plain": [
       "['M', 'L', 'M', 'M', 'L', 'M', 'S']"
      ]
     },
     "execution_count": 50,
     "metadata": {},
     "output_type": "execute_result"
    }
   ],
   "source": [
    "def getTshirtsize(height):\n",
    "    if height < 150:\n",
    "        return 'S'\n",
    "    elif height > 150 and height < 180:\n",
    "        return 'M'\n",
    "    else:\n",
    "        return 'L'\n",
    "    \n",
    "heights = [152, 182, 175, 161, 180, 172, 146]\n",
    "list(map(getTshirtsize, heights))"
   ]
  },
  {
   "cell_type": "code",
   "execution_count": 51,
   "id": "0c2b187f",
   "metadata": {},
   "outputs": [
    {
     "name": "stdout",
     "output_type": "stream",
     "text": [
      "[False, False, True, True, False, False]\n",
      "2\n"
     ]
    }
   ],
   "source": [
    "A = [1,0,1,1,0,1, 1]\n",
    "B = [0,1,1,1,1,0]\n",
    "\n",
    "A = list(map(lambda x,y: x==y, A,B))\n",
    "print(A)\n",
    "print(sum(A))"
   ]
  },
  {
   "cell_type": "code",
   "execution_count": 52,
   "id": "de108ef6",
   "metadata": {},
   "outputs": [
    {
     "name": "stdout",
     "output_type": "stream",
     "text": [
      "[{'name': 'Alice', 'salary': 180000, 'job': 'data scientist'}, {'name': 'Bob', 'salary': 99000, 'job': 'data engineer'}, {'name': 'Frank', 'salary': 87000, 'job': 'data analyst'}]\n"
     ]
    }
   ],
   "source": [
    "column_names = ['name', 'salary', 'job']\n",
    "db_rows = [('Alice', 180000, 'data scientist'),\n",
    "           ('Bob', 99000, 'data engineer'),\n",
    "           ('Frank', 87000, 'data analyst')]\n",
    "\n",
    "db = [dict(zip(column_names, row)) for row in db_rows]\n",
    "print(db)"
   ]
  },
  {
   "cell_type": "code",
   "execution_count": 53,
   "id": "4eb13b8e",
   "metadata": {},
   "outputs": [
    {
     "name": "stdout",
     "output_type": "stream",
     "text": [
      "[['a', 'b', 'c'], ['c', 'd', 'e'], ['d', 'e', 'f']]\n"
     ]
    }
   ],
   "source": [
    "sentence = \"abc cde def\"\n",
    "result = list(map(lambda x: list(x), sentence.split(\" \")))\n",
    "print(result)"
   ]
  },
  {
   "cell_type": "code",
   "execution_count": 54,
   "id": "10a7ecef",
   "metadata": {},
   "outputs": [
    {
     "name": "stdout",
     "output_type": "stream",
     "text": [
      "(1, 4)\n"
     ]
    }
   ],
   "source": [
    "def func2(c, d):\n",
    "    return c, d\n",
    "\n",
    "def func1(a, b):\n",
    "    c = a**1\n",
    "    d = b**2\n",
    "    return lambda: func2(c,d)\n",
    "\n",
    "result = func1(1, 2)\n",
    "\n",
    "print(result())"
   ]
  },
  {
   "cell_type": "code",
   "execution_count": 55,
   "id": "f7fe3fee",
   "metadata": {},
   "outputs": [
    {
     "name": "stdout",
     "output_type": "stream",
     "text": [
      "0 2 4 6 8 "
     ]
    }
   ],
   "source": [
    "odd=lambda x: bool(x%2)\n",
    "result=[n for n in range(10)]\n",
    "\n",
    "for i in result:\n",
    "    if odd(i):\n",
    "        continue       \n",
    "    else:\n",
    "        print(i, end=\" \")"
   ]
  },
  {
   "cell_type": "code",
   "execution_count": 56,
   "id": "824da9d6",
   "metadata": {},
   "outputs": [
    {
     "name": "stdout",
     "output_type": "stream",
     "text": [
      "a fully-managed MySQL and PostgreSQL\n"
     ]
    }
   ],
   "source": [
    "string = '''\n",
    "We spent several years building our own database engine, Amazon Aurora, a fully-managed MySQL and PostgreSQL-compatible service with the same or better durability and availability as\n",
    "the commercial engines, but at one-tenth of the cost. We were not surprised when this worked.\n",
    "'''\n",
    "result = lambda key, val: key[ key.find(val)-18 : key.find(val)+18 ] if val in key else -1\n",
    "\n",
    "print(result(string, 'SQL'))"
   ]
  },
  {
   "cell_type": "code",
   "execution_count": 57,
   "id": "e430ed83",
   "metadata": {},
   "outputs": [
    {
     "name": "stdout",
     "output_type": "stream",
     "text": [
      "[1, 2, 3, 4, 5]\n"
     ]
    }
   ],
   "source": [
    "array = [ [1, [ [ 2 ] ], [ [ [ 3 ] ] ], [ [ 4 ], 5 ] ]]\n",
    "result = lambda x: sum(map(result, x), [ ] ) if isinstance(x, list) else [x]\n",
    "print(result(array))"
   ]
  },
  {
   "cell_type": "markdown",
   "id": "37bf11e6",
   "metadata": {},
   "source": [
    "### filter(func or None, iterable)"
   ]
  },
  {
   "cell_type": "markdown",
   "id": "7ee2dda4",
   "metadata": {},
   "source": [
    "**Return an iterator yielding those items of iterable for which function(item) is true. If function is None, return the items that are true.**"
   ]
  },
  {
   "cell_type": "code",
   "execution_count": 58,
   "id": "45d085f7",
   "metadata": {},
   "outputs": [
    {
     "data": {
      "text/plain": [
       "True"
      ]
     },
     "execution_count": 58,
     "metadata": {},
     "output_type": "execute_result"
    }
   ],
   "source": [
    "def check_even(num):\n",
    "    return num % 2 == 0\n",
    "\n",
    "check_even(10)"
   ]
  },
  {
   "cell_type": "code",
   "execution_count": 59,
   "id": "c6f981f8",
   "metadata": {},
   "outputs": [
    {
     "data": {
      "text/plain": [
       "[2, 4, 6, 8, 10]"
      ]
     },
     "execution_count": 59,
     "metadata": {},
     "output_type": "execute_result"
    }
   ],
   "source": [
    "list(filter(check_even, range(1, 11)))"
   ]
  },
  {
   "cell_type": "code",
   "execution_count": 60,
   "id": "4fcaf8dd",
   "metadata": {},
   "outputs": [
    {
     "data": {
      "text/plain": [
       "[2, 4, 6, 8, 10]"
      ]
     },
     "execution_count": 60,
     "metadata": {},
     "output_type": "execute_result"
    }
   ],
   "source": [
    "list(filter(lambda x: x%2 == 0, range(1, 11)))"
   ]
  },
  {
   "cell_type": "code",
   "execution_count": 61,
   "id": "0afda9c4",
   "metadata": {},
   "outputs": [
    {
     "data": {
      "text/plain": [
       "['php', 'aaa']"
      ]
     },
     "execution_count": 61,
     "metadata": {},
     "output_type": "execute_result"
    }
   ],
   "source": [
    "# palindromic strings present in the list\n",
    "arr = [\"php\", \"w3r\", \"python\", \"aaa\", \"java\"]\n",
    "list( filter( lambda x: (x ==\"\".join( reversed(x))), arr))"
   ]
  },
  {
   "cell_type": "code",
   "execution_count": 62,
   "id": "11d6091f",
   "metadata": {},
   "outputs": [
    {
     "data": {
      "text/plain": [
       "[]"
      ]
     },
     "execution_count": 62,
     "metadata": {},
     "output_type": "execute_result"
    }
   ],
   "source": [
    "array  = [1, 2, 3, 4, 5]\n",
    "list(filter(lambda x:x<0, array))"
   ]
  },
  {
   "cell_type": "markdown",
   "id": "628331f6",
   "metadata": {},
   "source": [
    "### reduce(func, sequence)"
   ]
  },
  {
   "cell_type": "markdown",
   "id": "ecb3aa70",
   "metadata": {},
   "source": [
    "![sample_image](https://github.com/Rohitkale-AIML/Python/blob/main/helper_images/Screenshot_Python_06.png?raw=true)"
   ]
  },
  {
   "cell_type": "code",
   "execution_count": 63,
   "id": "9915d9cf",
   "metadata": {},
   "outputs": [],
   "source": [
    "from functools import reduce"
   ]
  },
  {
   "cell_type": "code",
   "execution_count": 64,
   "id": "322934a5",
   "metadata": {},
   "outputs": [
    {
     "data": {
      "text/plain": [
       "365"
      ]
     },
     "execution_count": 64,
     "metadata": {},
     "output_type": "execute_result"
    }
   ],
   "source": [
    "marks = [75, 65, 80, 95, 50]\n",
    "sum(marks)"
   ]
  },
  {
   "cell_type": "code",
   "execution_count": 65,
   "id": "772815af",
   "metadata": {},
   "outputs": [
    {
     "data": {
      "text/plain": [
       "365"
      ]
     },
     "execution_count": 65,
     "metadata": {},
     "output_type": "execute_result"
    }
   ],
   "source": [
    "reduce(lambda x, y: x + y, marks)"
   ]
  },
  {
   "cell_type": "code",
   "execution_count": 66,
   "id": "9778b9b4",
   "metadata": {},
   "outputs": [
    {
     "data": {
      "text/plain": [
       "7"
      ]
     },
     "execution_count": 66,
     "metadata": {},
     "output_type": "execute_result"
    }
   ],
   "source": [
    "# max elements present in a list using reduce\n",
    "def maximum(a, b):\n",
    "    return a if a > b else b\n",
    "\n",
    "nums = [3, 5, 2, 4, 7, 1]\n",
    "reduce(maximum, nums)"
   ]
  },
  {
   "cell_type": "code",
   "execution_count": 67,
   "id": "6ad7bf27",
   "metadata": {},
   "outputs": [
    {
     "data": {
      "text/plain": [
       "False"
      ]
     },
     "execution_count": 67,
     "metadata": {},
     "output_type": "execute_result"
    }
   ],
   "source": [
    "nums = [1, 1, 1, 1, 0]\n",
    "\n",
    "def is_true(a, b):\n",
    "    return bool(a and b)\n",
    "\n",
    "reduce(is_true, nums)"
   ]
  },
  {
   "cell_type": "code",
   "execution_count": 68,
   "id": "7fc9386b",
   "metadata": {},
   "outputs": [
    {
     "name": "stdout",
     "output_type": "stream",
     "text": [
      "4\n"
     ]
    }
   ],
   "source": [
    "import functools\n",
    "lists = [1,2,3,4]\n",
    "print(functools.reduce(lambda x,y : x if x > y else y ,lists))"
   ]
  }
 ],
 "metadata": {
  "kernelspec": {
   "display_name": "Python 3 (ipykernel)",
   "language": "python",
   "name": "python3"
  },
  "language_info": {
   "codemirror_mode": {
    "name": "ipython",
    "version": 3
   },
   "file_extension": ".py",
   "mimetype": "text/x-python",
   "name": "python",
   "nbconvert_exporter": "python",
   "pygments_lexer": "ipython3",
   "version": "3.9.16"
  }
 },
 "nbformat": 4,
 "nbformat_minor": 5
}
