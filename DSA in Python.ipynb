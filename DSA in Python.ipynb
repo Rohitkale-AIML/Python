{
 "cells": [
  {
   "cell_type": "markdown",
   "id": "b7fdf2dc",
   "metadata": {},
   "source": [
    "![sample_image](https://github.com/Rohitkale-AIML/Python/blob/main/helper_images/Screenshot_Python_23.png?raw=true)"
   ]
  },
  {
   "cell_type": "markdown",
   "id": "793d3fb1",
   "metadata": {},
   "source": [
    "![sample_image](https://github.com/Rohitkale-AIML/Python/blob/main/helper_images/Screenshot_Python_24.png?raw=true)"
   ]
  },
  {
   "cell_type": "markdown",
   "id": "d0cec8e9",
   "metadata": {},
   "source": [
    "# Insertion Sort"
   ]
  },
  {
   "cell_type": "markdown",
   "id": "769bf6c0",
   "metadata": {},
   "source": [
    "**Insertion sort works similarly as we sort cards in our hand in a card game**"
   ]
  },
  {
   "cell_type": "markdown",
   "id": "ab7bab6a",
   "metadata": {},
   "source": [
    "![sample_image](https://github.com/Rohitkale-AIML/Python/blob/main/helper_images/Screenshot_Python_25.png?raw=true)"
   ]
  },
  {
   "cell_type": "markdown",
   "id": "2b03ef8e",
   "metadata": {},
   "source": [
    "![sample_image](https://github.com/Rohitkale-AIML/Python/blob/main/helper_images/Screenshot_Python_26.png?raw=true)"
   ]
  },
  {
   "cell_type": "markdown",
   "id": "629e0b6e",
   "metadata": {},
   "source": [
    "![sample_image](https://github.com/Rohitkale-AIML/Python/blob/main/helper_images/Screenshot_Python_27.png?raw=true)"
   ]
  },
  {
   "cell_type": "markdown",
   "id": "1ab999b8",
   "metadata": {},
   "source": [
    "![sample_image](https://github.com/Rohitkale-AIML/Python/blob/main/helper_images/Screenshot_Python_28.png?raw=true)"
   ]
  },
  {
   "cell_type": "markdown",
   "id": "fde7e935",
   "metadata": {},
   "source": [
    "![sample_image](https://github.com/Rohitkale-AIML/Python/blob/main/helper_images/Screenshot_Python_29.png?raw=true)"
   ]
  },
  {
   "cell_type": "code",
   "execution_count": 1,
   "id": "3bea50a0",
   "metadata": {},
   "outputs": [],
   "source": [
    "def insertionsort(arr):\n",
    "    for j in range(1, len(arr)):\n",
    "        key = arr[j]\n",
    "        i = j-1\n",
    "        \n",
    "        #Compare key with each element on the left of it until an\n",
    "        # element is samller than its found\n",
    "        while i>=0 and key < arr[i]:\n",
    "            arr[i+1] = arr[i]\n",
    "            i = i - 1\n",
    "        \n",
    "        arr[i+1] = key"
   ]
  },
  {
   "cell_type": "code",
   "execution_count": 2,
   "id": "8fe10712",
   "metadata": {},
   "outputs": [
    {
     "name": "stdout",
     "output_type": "stream",
     "text": [
      "[1, 3, 4, 5, 9]\n"
     ]
    }
   ],
   "source": [
    "data = [9, 5, 1, 4, 3]\n",
    "insertionsort(data)\n",
    "print(data)"
   ]
  },
  {
   "cell_type": "markdown",
   "id": "61b15926",
   "metadata": {},
   "source": [
    "A tailor always sorts the shirts in the order of size, and thus inserts new shirts at the right position very quickly, by moving other shirts from left to right to keep the right place for the new shirt. He does this by starting from comparing the shirt at the first position and so on."
   ]
  },
  {
   "cell_type": "markdown",
   "id": "9fabb646",
   "metadata": {},
   "source": [
    "**If there are n elements in an array to sort using Insertion Sort then it will take n-1 passes/steps to sort the array**"
   ]
  },
  {
   "cell_type": "markdown",
   "id": "80ed8900",
   "metadata": {},
   "source": [
    "What would be the maximum number of comparisons in the 3rd iteration of Insertion sort? The first iteration starts with the element with index = 1.\n",
    "\n",
    "Note: n is the number of elements.\n",
    "\n",
    "==> 3"
   ]
  },
  {
   "cell_type": "markdown",
   "id": "66d3e13a",
   "metadata": {},
   "source": [
    "# Bubble Sort"
   ]
  },
  {
   "cell_type": "markdown",
   "id": "ba40d99f",
   "metadata": {},
   "source": [
    "![sample_image](https://github.com/Rohitkale-AIML/Python/blob/main/helper_images/Screenshot_Python_30.png?raw=true)"
   ]
  },
  {
   "cell_type": "markdown",
   "id": "d56867cf",
   "metadata": {},
   "source": [
    "![sample_image](https://github.com/Rohitkale-AIML/Python/blob/main/helper_images/Screenshot_Python_31.png?raw=true)"
   ]
  },
  {
   "cell_type": "markdown",
   "id": "9df1ef49",
   "metadata": {},
   "source": [
    "![sample_image](https://github.com/Rohitkale-AIML/Python/blob/main/helper_images/Screenshot_Python_32.png?raw=true)"
   ]
  },
  {
   "cell_type": "markdown",
   "id": "39fb952c",
   "metadata": {},
   "source": [
    "![sample_image](https://github.com/Rohitkale-AIML/Python/blob/main/helper_images/Screenshot_Python_33.png?raw=true)"
   ]
  },
  {
   "cell_type": "code",
   "execution_count": 3,
   "id": "1d90f3cd",
   "metadata": {},
   "outputs": [],
   "source": [
    "def bubblesort(arr):\n",
    "    for i in range(len(arr)):\n",
    "        flag = False # flag represent whether any swap happens in this outer loop iteration\n",
    "        \n",
    "        for j in range(0, len(arr)-i-1):\n",
    "            if arr[j] > arr[j+1]:\n",
    "                temp = arr[j]\n",
    "                arr[j] = arr[j+1]\n",
    "                arr[j+1] = temp\n",
    "                flag = True\n",
    "            \n",
    "        if flag == False:\n",
    "            break\n",
    "# arr[j], arr[j+1] = arr[j+1], arr[j] => in Python you can do this for swap\n",
    "# len(arr) => number of elements in array to sort"
   ]
  },
  {
   "cell_type": "code",
   "execution_count": 4,
   "id": "510da83c",
   "metadata": {},
   "outputs": [
    {
     "name": "stdout",
     "output_type": "stream",
     "text": [
      "[-9, -2, 0, 11, 45]\n"
     ]
    }
   ],
   "source": [
    "data = [-2, 45, 0, 11, -9]\n",
    "bubblesort(data)\n",
    "print(data)"
   ]
  },
  {
   "cell_type": "markdown",
   "id": "f0bf4669",
   "metadata": {},
   "source": [
    "When people in a queue want to stand in a height-wise sorted manner, they swap their positions with the adjacent person, only when the person standing behind has a smaller height. This is done until everyone is standing based on increasing order of heights from front to the end of the queue."
   ]
  },
  {
   "cell_type": "markdown",
   "id": "3cfd4953",
   "metadata": {},
   "source": [
    "If the elements are already sorted in the ascending order\n",
    "\n",
    "- The best case running time of the insertion sort is O(n).\n",
    "- The best case occurs when the input array is already sorted.\n",
    "- As the elements are already sorted, only one comparison is made in each iteration. Hence, the time required is O(n).\n",
    "- Bubble sort with the flag also takes O(n) time if the list is already sorted.\n",
    "- Although Bubble sort without flag won’t make any swap it will still go through the list in each of the n iterations.\n",
    "- Therefore it doesn’t has the best time complexity."
   ]
  },
  {
   "cell_type": "code",
   "execution_count": null,
   "id": "51b4330f",
   "metadata": {},
   "outputs": [],
   "source": []
  }
 ],
 "metadata": {
  "kernelspec": {
   "display_name": "Python 3 (ipykernel)",
   "language": "python",
   "name": "python3"
  },
  "language_info": {
   "codemirror_mode": {
    "name": "ipython",
    "version": 3
   },
   "file_extension": ".py",
   "mimetype": "text/x-python",
   "name": "python",
   "nbconvert_exporter": "python",
   "pygments_lexer": "ipython3",
   "version": "3.9.16"
  }
 },
 "nbformat": 4,
 "nbformat_minor": 5
}
