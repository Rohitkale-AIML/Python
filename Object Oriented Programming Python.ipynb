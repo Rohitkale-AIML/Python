{
 "cells": [
  {
   "cell_type": "markdown",
   "id": "02b280e1",
   "metadata": {},
   "source": [
    "# Object Oriented Programming"
   ]
  },
  {
   "cell_type": "markdown",
   "id": "8acecf81",
   "metadata": {},
   "source": [
    "- **OOPS is a programming style that deals with classes and objects**\n",
    "- **The main aim of OOP is to implement real world entities**\n",
    "\n",
    "- **Class is a blueprint for an object**\n",
    "- **An object is an entity that has a state and some behivour**"
   ]
  },
  {
   "cell_type": "markdown",
   "id": "abf8087b",
   "metadata": {},
   "source": [
    "![sample_image](https://github.com/Rohitkale-AIML/Python/blob/main/helper_images/Screenshot_Python_07.png?raw=true)"
   ]
  },
  {
   "cell_type": "markdown",
   "id": "00e1019c",
   "metadata": {},
   "source": [
    "![sample_image](https://github.com/Rohitkale-AIML/Python/blob/main/helper_images/Screenshot_Python_08.png?raw=true)"
   ]
  },
  {
   "cell_type": "code",
   "execution_count": 1,
   "id": "239f55c3",
   "metadata": {},
   "outputs": [],
   "source": [
    "class Car:\n",
    "    # attributes of class or class variables\n",
    "    model = \"Hashback\"\n",
    "    color = \"Black\"\n",
    "    price = 1000000\n",
    "    \n",
    "    # methods of class\n",
    "    def drive(self):\n",
    "        print(\"zoomm zoom zoom\")\n",
    "        \n",
    "    def lock(self):\n",
    "        print(\"Car is now locked\")\n",
    "        \n",
    "    def unlock(self):\n",
    "        print(\"Car is now unlocked\")\n",
    "        \n",
    "    def printDetails(self):\n",
    "        print(\"model\", self.model)\n",
    "        print(\"color\", self.color)\n",
    "        print(\"Price\", self.price)"
   ]
  },
  {
   "cell_type": "code",
   "execution_count": 2,
   "id": "ba2e79c7",
   "metadata": {},
   "outputs": [],
   "source": [
    "c1 = Car()\n",
    "c2 = Car()"
   ]
  },
  {
   "cell_type": "code",
   "execution_count": 3,
   "id": "01f22f13",
   "metadata": {},
   "outputs": [
    {
     "data": {
      "text/plain": [
       "'Hashback'"
      ]
     },
     "execution_count": 3,
     "metadata": {},
     "output_type": "execute_result"
    }
   ],
   "source": [
    "c1.model "
   ]
  },
  {
   "cell_type": "code",
   "execution_count": 4,
   "id": "cb536f9c",
   "metadata": {},
   "outputs": [
    {
     "data": {
      "text/plain": [
       "'Black'"
      ]
     },
     "execution_count": 4,
     "metadata": {},
     "output_type": "execute_result"
    }
   ],
   "source": [
    "c2.color = \"Red\"\n",
    "c1.color"
   ]
  },
  {
   "cell_type": "code",
   "execution_count": 5,
   "id": "d8dc4086",
   "metadata": {},
   "outputs": [
    {
     "data": {
      "text/plain": [
       "'Red'"
      ]
     },
     "execution_count": 5,
     "metadata": {},
     "output_type": "execute_result"
    }
   ],
   "source": [
    "c2.color"
   ]
  },
  {
   "cell_type": "code",
   "execution_count": 6,
   "id": "03114d59",
   "metadata": {},
   "outputs": [],
   "source": [
    "# we can add attribute/method to any object\n",
    "# but it is limited to object level only\n",
    "c2.fuel = 'CNG' "
   ]
  },
  {
   "cell_type": "code",
   "execution_count": 7,
   "id": "d01b40e0",
   "metadata": {},
   "outputs": [
    {
     "ename": "AttributeError",
     "evalue": "'Car' object has no attribute 'fuel'",
     "output_type": "error",
     "traceback": [
      "\u001b[1;31m---------------------------------------------------------------------------\u001b[0m",
      "\u001b[1;31mAttributeError\u001b[0m                            Traceback (most recent call last)",
      "Cell \u001b[1;32mIn[7], line 1\u001b[0m\n\u001b[1;32m----> 1\u001b[0m \u001b[43mc1\u001b[49m\u001b[38;5;241;43m.\u001b[39;49m\u001b[43mfuel\u001b[49m\n",
      "\u001b[1;31mAttributeError\u001b[0m: 'Car' object has no attribute 'fuel'"
     ]
    }
   ],
   "source": [
    "c1.fuel"
   ]
  },
  {
   "cell_type": "code",
   "execution_count": null,
   "id": "dee1fa02",
   "metadata": {},
   "outputs": [],
   "source": [
    "c2.fuel"
   ]
  },
  {
   "cell_type": "code",
   "execution_count": null,
   "id": "bfb81c5d",
   "metadata": {},
   "outputs": [],
   "source": [
    "c1.drive()"
   ]
  },
  {
   "cell_type": "code",
   "execution_count": null,
   "id": "028f1ff4",
   "metadata": {},
   "outputs": [],
   "source": [
    "c1.drive"
   ]
  },
  {
   "cell_type": "markdown",
   "id": "d494ce42",
   "metadata": {},
   "source": [
    "**We cannot use same name for attributes and method for a class**"
   ]
  },
  {
   "cell_type": "markdown",
   "id": "5090fd5f",
   "metadata": {},
   "source": [
    "![sample_image](https://github.com/Rohitkale-AIML/Python/blob/main/helper_images/Screenshot_Python_09.png?raw=true)"
   ]
  },
  {
   "cell_type": "code",
   "execution_count": null,
   "id": "8741a89c",
   "metadata": {},
   "outputs": [],
   "source": [
    "c1.printDetails()"
   ]
  },
  {
   "cell_type": "code",
   "execution_count": null,
   "id": "45d5b010",
   "metadata": {},
   "outputs": [],
   "source": [
    "c2.printDetails()"
   ]
  },
  {
   "cell_type": "markdown",
   "id": "0c284199",
   "metadata": {},
   "source": [
    "![sample_image](https://github.com/Rohitkale-AIML/Python/blob/main/helper_images/Screenshot_Python_10.png?raw=true)"
   ]
  },
  {
   "cell_type": "markdown",
   "id": "3a7c0797",
   "metadata": {},
   "source": [
    "- The init method is the Python equivalent of the C++ constructor in an object-oriented approach.\n",
    "\n",
    "- The init function is called every time an object is created from a class.\n",
    "\n",
    "- The init method lets the class initialize the object’s attributes (data member) and serves no other purpose.\n",
    "\n",
    "- It is only used within classes and is among the magic methods in python."
   ]
  },
  {
   "cell_type": "code",
   "execution_count": 8,
   "id": "07a8fb5a",
   "metadata": {},
   "outputs": [],
   "source": [
    "class Car:\n",
    "    # default constructor method\n",
    "    def __init__(self):\n",
    "        print(\"satish\")"
   ]
  },
  {
   "cell_type": "code",
   "execution_count": 9,
   "id": "8ff1ed01",
   "metadata": {},
   "outputs": [
    {
     "name": "stdout",
     "output_type": "stream",
     "text": [
      "satish\n"
     ]
    }
   ],
   "source": [
    "c1 = Car()"
   ]
  },
  {
   "cell_type": "code",
   "execution_count": 10,
   "id": "1acc77c6",
   "metadata": {},
   "outputs": [],
   "source": [
    "class Car:\n",
    "    def __init__(self):\n",
    "        # instance variables\n",
    "        self.model = \"Hashback\"\n",
    "        self.color = \"Red\"\n",
    "        self.price = 1000000"
   ]
  },
  {
   "cell_type": "code",
   "execution_count": 11,
   "id": "efc3552e",
   "metadata": {},
   "outputs": [],
   "source": [
    "c1 = Car()"
   ]
  },
  {
   "cell_type": "code",
   "execution_count": 12,
   "id": "b9ebb0db",
   "metadata": {},
   "outputs": [
    {
     "data": {
      "text/plain": [
       "'Hashback'"
      ]
     },
     "execution_count": 12,
     "metadata": {},
     "output_type": "execute_result"
    }
   ],
   "source": [
    "c1.model"
   ]
  },
  {
   "cell_type": "code",
   "execution_count": 13,
   "id": "a201685a",
   "metadata": {},
   "outputs": [
    {
     "data": {
      "text/plain": [
       "1000000"
      ]
     },
     "execution_count": 13,
     "metadata": {},
     "output_type": "execute_result"
    }
   ],
   "source": [
    "c2 = Car()\n",
    "c2.price"
   ]
  },
  {
   "cell_type": "code",
   "execution_count": 14,
   "id": "009d9666",
   "metadata": {},
   "outputs": [],
   "source": [
    "class Car:\n",
    "    def __init__(self, model, color, price):\n",
    "        # dynamic instance attributes\n",
    "        self.model = model\n",
    "        self.color = color\n",
    "        self.price = price"
   ]
  },
  {
   "cell_type": "code",
   "execution_count": 15,
   "id": "3f090562",
   "metadata": {},
   "outputs": [
    {
     "ename": "TypeError",
     "evalue": "__init__() missing 3 required positional arguments: 'model', 'color', and 'price'",
     "output_type": "error",
     "traceback": [
      "\u001b[1;31m---------------------------------------------------------------------------\u001b[0m",
      "\u001b[1;31mTypeError\u001b[0m                                 Traceback (most recent call last)",
      "Cell \u001b[1;32mIn[15], line 1\u001b[0m\n\u001b[1;32m----> 1\u001b[0m c1 \u001b[38;5;241m=\u001b[39m \u001b[43mCar\u001b[49m\u001b[43m(\u001b[49m\u001b[43m)\u001b[49m\n",
      "\u001b[1;31mTypeError\u001b[0m: __init__() missing 3 required positional arguments: 'model', 'color', and 'price'"
     ]
    }
   ],
   "source": [
    "c1 = Car()"
   ]
  },
  {
   "cell_type": "code",
   "execution_count": 16,
   "id": "24578959",
   "metadata": {},
   "outputs": [],
   "source": [
    "c1 = Car(\"Hashback\", \"Red\", 1000000)"
   ]
  },
  {
   "cell_type": "code",
   "execution_count": 17,
   "id": "4df522fa",
   "metadata": {},
   "outputs": [
    {
     "data": {
      "text/plain": [
       "'Red'"
      ]
     },
     "execution_count": 17,
     "metadata": {},
     "output_type": "execute_result"
    }
   ],
   "source": [
    "c1.color"
   ]
  },
  {
   "cell_type": "code",
   "execution_count": 18,
   "id": "3eee6968",
   "metadata": {},
   "outputs": [],
   "source": [
    "class Car:\n",
    "    def __init__(self, model, color, price=-1):\n",
    "        self.model = model\n",
    "        self.color = color\n",
    "        self.price = price\n",
    "        self.fuel = \"Deisel\""
   ]
  },
  {
   "cell_type": "code",
   "execution_count": 19,
   "id": "8e462577",
   "metadata": {},
   "outputs": [],
   "source": [
    "c1 = Car(\"sedan\", 'Black')"
   ]
  },
  {
   "cell_type": "code",
   "execution_count": 20,
   "id": "f96d660f",
   "metadata": {},
   "outputs": [
    {
     "data": {
      "text/plain": [
       "-1"
      ]
     },
     "execution_count": 20,
     "metadata": {},
     "output_type": "execute_result"
    }
   ],
   "source": [
    "c1.price"
   ]
  },
  {
   "cell_type": "code",
   "execution_count": 21,
   "id": "e25c158e",
   "metadata": {},
   "outputs": [
    {
     "data": {
      "text/plain": [
       "'Deisel'"
      ]
     },
     "execution_count": 21,
     "metadata": {},
     "output_type": "execute_result"
    }
   ],
   "source": [
    "c1.fuel"
   ]
  },
  {
   "cell_type": "code",
   "execution_count": 22,
   "id": "cb3879cd",
   "metadata": {},
   "outputs": [
    {
     "name": "stdout",
     "output_type": "stream",
     "text": [
      "John\n"
     ]
    }
   ],
   "source": [
    "class People():\n",
    "    def __init__(self, name):\n",
    "        self.name = name\n",
    "\n",
    "    def get_name(self):\n",
    "        print(self.name)\n",
    "\n",
    "person1 = People(\"John\")\n",
    "person2 = People(\"Mary\")\n",
    "person1.get_name()"
   ]
  },
  {
   "cell_type": "code",
   "execution_count": 23,
   "id": "13624c7c",
   "metadata": {},
   "outputs": [
    {
     "name": "stdout",
     "output_type": "stream",
     "text": [
      "lose win\n"
     ]
    }
   ],
   "source": [
    "class football:\n",
    "    final_res= 'lose'\n",
    "    def __init__(self,name,score):\n",
    "        self.name = name\n",
    "        self.score = score\n",
    "        self.final_res = 'lose'\n",
    "    \n",
    "    def calc(self, winning_score):\n",
    "        if self.score>winning_score:\n",
    "            self.final_res='win'\n",
    "            \n",
    "match = football('Juventus',3)\n",
    "match.calc(2)\n",
    "print(football.final_res, match.final_res)"
   ]
  },
  {
   "cell_type": "code",
   "execution_count": 24,
   "id": "f88dff9f",
   "metadata": {},
   "outputs": [
    {
     "name": "stdout",
     "output_type": "stream",
     "text": [
      "Roll: 34 Marks: A None Age: 17\n"
     ]
    }
   ],
   "source": [
    "class Student:\n",
    "    def __init__(self,roll,marks):\n",
    "        self.roll = roll\n",
    "        self.marks = marks\n",
    "        \n",
    "    def display(self):\n",
    "        print('Roll:', self.roll,'Marks:',self.marks, end=\" \")\n",
    "\n",
    "student1 = Student(34,'A')\n",
    "student1.age = 17\n",
    "print(student1.display(), 'Age:',student1.age)"
   ]
  },
  {
   "cell_type": "markdown",
   "id": "a661c18d",
   "metadata": {},
   "source": [
    "**Here None was printed after Roll and Marks because the display() method wasn’t returning anything and it was also called under print().**"
   ]
  },
  {
   "cell_type": "code",
   "execution_count": 25,
   "id": "ab0388fd",
   "metadata": {},
   "outputs": [
    {
     "name": "stdout",
     "output_type": "stream",
     "text": [
      "Emma 10 Machine Learning Machine Learning\n"
     ]
    }
   ],
   "source": [
    "class Student:\n",
    "  # Class variable\n",
    "  subject_name = '--Math for Machine Learning--'\n",
    "\n",
    "  # constructor\n",
    "  def __init__(self, name, roll_no):\n",
    "    self.name = name\n",
    "    self.roll_no = roll_no\n",
    "\n",
    "# outside the class\n",
    "# create Objects\n",
    "s1 = Student('Emma', 10)\n",
    "Student.subject_name = 'Machine Learning'\n",
    "\n",
    "print(s1.name, s1.roll_no, Student.subject_name, s1.subject_name)"
   ]
  },
  {
   "cell_type": "code",
   "execution_count": 26,
   "id": "ec2acfa8",
   "metadata": {},
   "outputs": [
    {
     "name": "stdout",
     "output_type": "stream",
     "text": [
      "Emma 10 --Math for Machine Learning-- Machine Learning\n"
     ]
    }
   ],
   "source": [
    "class Student:\n",
    "  # Class variable\n",
    "  subject_name = '--Math for Machine Learning--'\n",
    "\n",
    "  # constructor\n",
    "  def __init__(self, name, roll_no):\n",
    "    self.name = name\n",
    "    self.roll_no = roll_no\n",
    "\n",
    "# outside the class\n",
    "# create Objects\n",
    "s1 = Student('Emma', 10)\n",
    "s1.subject_name = 'Machine Learning'\n",
    "\n",
    "print(s1.name, s1.roll_no, Student.subject_name, s1.subject_name)"
   ]
  },
  {
   "cell_type": "markdown",
   "id": "934b5abd",
   "metadata": {},
   "source": [
    "**s1.subject_name creates a new variable with the name “subject_name”. The class variable remains unchanged.**"
   ]
  },
  {
   "cell_type": "code",
   "execution_count": 27,
   "id": "e54c6b6a",
   "metadata": {},
   "outputs": [
    {
     "name": "stdout",
     "output_type": "stream",
     "text": [
      "[(True, 64), (False, 125), (True, 216)]\n"
     ]
    }
   ],
   "source": [
    "class solution:\n",
    "    def initial(self,sets):\n",
    "        return self.final(sets)\n",
    "\n",
    "    def final(self, sets):\n",
    "        return list(map(lambda x: ((x**3)%2==0,x**3),sets))\n",
    "\n",
    "print(solution().initial([4,5,6]))"
   ]
  },
  {
   "cell_type": "code",
   "execution_count": 28,
   "id": "3a916526",
   "metadata": {},
   "outputs": [
    {
     "name": "stdout",
     "output_type": "stream",
     "text": [
      "Name: Sanjay Club: Real Madrid Sports: Football Name: Ravi Club: United Sports: Tennis "
     ]
    }
   ],
   "source": [
    "class Player:\n",
    "     # class variables\n",
    "    club = 'United'\n",
    "    sport = 'Football'\n",
    "\n",
    "    def __init__(self, name):\n",
    "        # Instance variable\n",
    "        self.name = name\n",
    "\n",
    "    def show(self):\n",
    "        print('Name:', self.name, 'Club:', self.club, 'Sports:', self.sport, end=\" \")\n",
    "\n",
    "p1 = Player('Sanjay')\n",
    "p1.club = 'Real Madrid'\n",
    "p1.show()\n",
    "\n",
    "p2 = Player('Ravi')\n",
    "p2.sport = 'Tennis'\n",
    "p2.show()"
   ]
  },
  {
   "cell_type": "code",
   "execution_count": 29,
   "id": "5fd2c031",
   "metadata": {},
   "outputs": [],
   "source": [
    "class Student:\n",
    "\n",
    "    def __init__(self, marks1, marks2, credits1, credits2):\n",
    "    \n",
    "        self.marks1= marks1\n",
    "        self.marks2= marks2\n",
    "        \n",
    "        self.credits1= credits1\n",
    "        self.credits2= credits2\n",
    "        \n",
    "    def points(self, marks):\n",
    "    \n",
    "        if marks in range(90,100):\n",
    "            return 10\n",
    "        elif marks in range(75,90):\n",
    "            return 9\n",
    "        elif marks in range(60,75):\n",
    "            return 8\n",
    "        elif  marks in range(45,60):\n",
    "            return 7\n",
    "        else:\n",
    "            return 0\n",
    "        \n",
    "    def grade_point_average(self):\n",
    "    \n",
    "        if self.credits1!=0 and self.credits2!=0:\n",
    "          \n",
    "          gpa= ((self.points(self.marks1)*self.credits1) + \n",
    "                self.points(self.marks2)*self.credits2) / (self.credits1 + self.credits2) \n",
    "          \n",
    "          return round(gpa,2)\n",
    "    \n",
    "        else:\n",
    "            return -1.0"
   ]
  },
  {
   "cell_type": "code",
   "execution_count": 30,
   "id": "cffe42a0",
   "metadata": {},
   "outputs": [],
   "source": [
    "s1 = Student(85, 76, 3, 4)"
   ]
  },
  {
   "cell_type": "code",
   "execution_count": 31,
   "id": "cbae80c7",
   "metadata": {},
   "outputs": [
    {
     "data": {
      "text/plain": [
       "9.0"
      ]
     },
     "execution_count": 31,
     "metadata": {},
     "output_type": "execute_result"
    }
   ],
   "source": [
    "s1.grade_point_average()"
   ]
  },
  {
   "cell_type": "code",
   "execution_count": 32,
   "id": "05da4629",
   "metadata": {},
   "outputs": [
    {
     "name": "stdout",
     "output_type": "stream",
     "text": [
      "0.0\n",
      "89.6\n"
     ]
    }
   ],
   "source": [
    "def tempconversion(t):\n",
    "\n",
    "    class Temperature:\n",
    "        # YOUR CODE GOES HERE\n",
    "        def __init__(self, t):\n",
    "            self.t = t\n",
    "\n",
    "        def convertcelsius(self):\n",
    "            res = ((self.t-32)*5/9)\n",
    "            print(round(res, 2))\n",
    "\n",
    "        def convertfahrenheit(self):\n",
    "            res = ((self.t*(9/5)) + 32)\n",
    "            print(round(res, 2))\n",
    "\n",
    "    temp=Temperature(t)\n",
    "    temp.convertcelsius()\n",
    "    temp.convertfahrenheit()\n",
    "    \n",
    "tempconversion(32)"
   ]
  },
  {
   "cell_type": "markdown",
   "id": "147b0889",
   "metadata": {},
   "source": [
    "# Encapsulation"
   ]
  },
  {
   "cell_type": "markdown",
   "id": "eab70c06",
   "metadata": {},
   "source": [
    "![sample_image](https://github.com/Rohitkale-AIML/Python/blob/main/helper_images/Screenshot_Python_11.png?raw=true)"
   ]
  },
  {
   "cell_type": "code",
   "execution_count": 33,
   "id": "07ca86b1",
   "metadata": {},
   "outputs": [
    {
     "data": {
      "text/plain": [
       "1000000"
      ]
     },
     "execution_count": 33,
     "metadata": {},
     "output_type": "execute_result"
    }
   ],
   "source": [
    "class Car:\n",
    "    def __init__(self, model, color, price):\n",
    "        self.model = model\n",
    "        self.color = color\n",
    "        self.price = price\n",
    "        \n",
    "    def drive(self):\n",
    "        print(\"zoom zoom \")\n",
    "        \n",
    "c1 = Car(\"Sedan\", \"Red\", 1000000)\n",
    "c1.price"
   ]
  },
  {
   "cell_type": "code",
   "execution_count": 34,
   "id": "06cf42fe",
   "metadata": {},
   "outputs": [
    {
     "data": {
      "text/plain": [
       "900000"
      ]
     },
     "execution_count": 34,
     "metadata": {},
     "output_type": "execute_result"
    }
   ],
   "source": [
    "c1.price = 900000\n",
    "c1.price"
   ]
  },
  {
   "cell_type": "code",
   "execution_count": 35,
   "id": "66899314",
   "metadata": {},
   "outputs": [
    {
     "data": {
      "text/plain": [
       "'xyz'"
      ]
     },
     "execution_count": 35,
     "metadata": {},
     "output_type": "execute_result"
    }
   ],
   "source": [
    "c1.price = \"xyz\"\n",
    "c1.price"
   ]
  },
  {
   "cell_type": "code",
   "execution_count": 36,
   "id": "4d39d251",
   "metadata": {},
   "outputs": [
    {
     "data": {
      "text/plain": [
       "('2 hours and 0 min', 'The total minutes in time t1 and t2 are: 120')"
      ]
     },
     "execution_count": 36,
     "metadata": {},
     "output_type": "execute_result"
    }
   ],
   "source": [
    "def timeHandle(a,b,c,d):\n",
    "    '''inputs: a,b = hours and mins of t1\n",
    "               c,d = hours and mins of t2\n",
    "        Output: Two lines of output for each pair of t1 and t2. \n",
    "    '''\n",
    "    class Spanoftime:\n",
    "        def __init__(self,h,m):\n",
    "            self.hours=h\n",
    "            self.mins=m\n",
    "        def displayTime(self):\n",
    "            return (\"{} hours and {} min\".format(self.hours,self.mins))\n",
    "\n",
    "        def addTime(t1,t2):\n",
    "            t3=Spanoftime(0,0)\n",
    "            if (t1.mins+t2.mins>60) or (t1.mins+t2.mins==60):\n",
    "                t3.hours=(t1.mins+t2.mins)//60\n",
    "            t3.hours=t3.hours+t1.hours+t2.hours\n",
    "            t3.mins=(t1.mins+t2.mins)-(((t1.mins+t2.mins)//60)*60)\n",
    "            return t3\n",
    "        def returnMinutes(t1,t2):\n",
    "            return (t1.hours*60 + t1.mins + t2.hours*60 + t2.mins)\n",
    "            # Return the total number of minutes\n",
    "\n",
    "    t1=Spanoftime(a,b)\n",
    "    t2=Spanoftime(c,d)\n",
    "    t3=Spanoftime.addTime(t1,t2)\n",
    "    t3.displayTime()\n",
    "    totalmin=str(Spanoftime.returnMinutes(t1,t2))\n",
    "    return t3.displayTime(),(\"The total minutes in time t1 and t2 are: \"+totalmin)\n",
    "\n",
    "timeHandle(1,10,0,50)"
   ]
  },
  {
   "cell_type": "markdown",
   "id": "26e9115b",
   "metadata": {},
   "source": [
    "## Access modifiers in python"
   ]
  },
  {
   "cell_type": "markdown",
   "id": "b4643514",
   "metadata": {},
   "source": [
    "### Public Members"
   ]
  },
  {
   "cell_type": "markdown",
   "id": "61f640ab",
   "metadata": {},
   "source": [
    "![sample_image](https://github.com/Rohitkale-AIML/Python/blob/main/helper_images/Screenshot_Python_12.png?raw=true)"
   ]
  },
  {
   "cell_type": "code",
   "execution_count": 37,
   "id": "525f82a2",
   "metadata": {},
   "outputs": [
    {
     "name": "stdout",
     "output_type": "stream",
     "text": [
      "Name Satish Salary 10000\n"
     ]
    }
   ],
   "source": [
    "class Employee:\n",
    "    def __init__(self, name, salary, project):\n",
    "        self.name = name\n",
    "        self.salary = salary\n",
    "        self.project = project\n",
    "        \n",
    "    def show(self):\n",
    "        print(\"Name\", self.name, \"Salary\", self.salary)\n",
    "        \n",
    "    def work(self):\n",
    "        print(\"Name\", self.name, 'Project', self.project)\n",
    "              \n",
    "emp = Employee(\"Satish\", 10000, \"NLP\")\n",
    "emp.show()"
   ]
  },
  {
   "cell_type": "markdown",
   "id": "bf317587",
   "metadata": {},
   "source": [
    "### Private Members"
   ]
  },
  {
   "cell_type": "markdown",
   "id": "02c278d5",
   "metadata": {},
   "source": [
    "![sample_image](https://github.com/Rohitkale-AIML/Python/blob/main/helper_images/Screenshot_Python_13.png?raw=true)"
   ]
  },
  {
   "cell_type": "code",
   "execution_count": 38,
   "id": "1f0c5b62",
   "metadata": {},
   "outputs": [
    {
     "name": "stdout",
     "output_type": "stream",
     "text": [
      "Name Satish Salary 10000\n"
     ]
    }
   ],
   "source": [
    "class Employee:\n",
    "    def __init__(self, name, salary, project):\n",
    "        self.name = name\n",
    "        self.__salary = salary\n",
    "        self.project = project\n",
    "        \n",
    "    def show(self):\n",
    "        print(\"Name\", self.name, \"Salary\", self.__salary)\n",
    "        \n",
    "    def work(self):\n",
    "        print(\"Name\", self.name, 'Project', self.project)\n",
    "        \n",
    "emp = Employee(\"Satish\", 10000, \"NLP\")\n",
    "emp.show()"
   ]
  },
  {
   "cell_type": "code",
   "execution_count": 39,
   "id": "d78f37ae",
   "metadata": {},
   "outputs": [
    {
     "name": "stdout",
     "output_type": "stream",
     "text": [
      "Name Satish Salary 10000\n",
      "None\n"
     ]
    }
   ],
   "source": [
    "print(emp.show())"
   ]
  },
  {
   "cell_type": "code",
   "execution_count": 40,
   "id": "00b7c9b1",
   "metadata": {},
   "outputs": [
    {
     "ename": "AttributeError",
     "evalue": "'Employee' object has no attribute '__salary'",
     "output_type": "error",
     "traceback": [
      "\u001b[1;31m---------------------------------------------------------------------------\u001b[0m",
      "\u001b[1;31mAttributeError\u001b[0m                            Traceback (most recent call last)",
      "Cell \u001b[1;32mIn[40], line 1\u001b[0m\n\u001b[1;32m----> 1\u001b[0m \u001b[43memp\u001b[49m\u001b[38;5;241;43m.\u001b[39;49m\u001b[43m__salary\u001b[49m\n",
      "\u001b[1;31mAttributeError\u001b[0m: 'Employee' object has no attribute '__salary'"
     ]
    }
   ],
   "source": [
    "emp.__salary     # outside of class"
   ]
  },
  {
   "cell_type": "markdown",
   "id": "c054c137",
   "metadata": {},
   "source": [
    "**How to access private members?**\n",
    "\n",
    "- create a public method to access private members (like above example)\n",
    "- using Getters & Setters"
   ]
  },
  {
   "cell_type": "markdown",
   "id": "f54332c6",
   "metadata": {},
   "source": [
    "![sample_image](https://github.com/Rohitkale-AIML/Python/blob/main/helper_images/Screenshot_Python_14.png?raw=true)"
   ]
  },
  {
   "cell_type": "code",
   "execution_count": 41,
   "id": "8cda8b01",
   "metadata": {},
   "outputs": [
    {
     "name": "stdout",
     "output_type": "stream",
     "text": [
      "5\n"
     ]
    }
   ],
   "source": [
    "class car:\n",
    "    def __init__(self):\n",
    "        self.price = 100\n",
    "        self.__cover = 5\n",
    "\n",
    "    def display(self):\n",
    "        print(self.__cover)\n",
    "\n",
    "obj=car()\n",
    "obj.display()"
   ]
  },
  {
   "cell_type": "code",
   "execution_count": 42,
   "id": "4e4d6212",
   "metadata": {},
   "outputs": [
    {
     "data": {
      "text/plain": [
       "40000"
      ]
     },
     "execution_count": 42,
     "metadata": {},
     "output_type": "execute_result"
    }
   ],
   "source": [
    "class Employee:\n",
    "    def __init__(self, name, salary, project):\n",
    "        self.name = name\n",
    "        self.__salary = salary\n",
    "        self.project = project\n",
    "        \n",
    "    def set_salary(self, salary):\n",
    "        self.__salary = salary\n",
    "    \n",
    "    def get_salary(self):\n",
    "        self.__salary += 20000\n",
    "        return self.__salary\n",
    "    \n",
    "    def work(self):\n",
    "        print(\"Name\", self.name, 'Project', self.project)\n",
    "        \n",
    "emp = Employee(\"Satish\", 10000, \"NLP\")\n",
    "emp.set_salary(20000)\n",
    "emp.get_salary()"
   ]
  },
  {
   "cell_type": "code",
   "execution_count": 43,
   "id": "d325e3e2",
   "metadata": {},
   "outputs": [
    {
     "data": {
      "text/plain": [
       "15"
      ]
     },
     "execution_count": 43,
     "metadata": {},
     "output_type": "execute_result"
    }
   ],
   "source": [
    "class Student:\n",
    "    def __init__(self, name, roll_no, age):\n",
    "        self.name = name\n",
    "        self.__roll_no = roll_no\n",
    "        self.__age = age\n",
    "        \n",
    "    def set_roll_no(self, roll_no):\n",
    "        self.__roll_no = roll_no\n",
    "        \n",
    "    def get_roll_no(self):\n",
    "        self.__roll_no = 15\n",
    "        return self.__roll_no\n",
    "    \n",
    "s1 = Student(\"satish\", 1, 30)\n",
    "s1.set_roll_no(10)\n",
    "s1.get_roll_no()"
   ]
  },
  {
   "cell_type": "code",
   "execution_count": 44,
   "id": "622f6837",
   "metadata": {},
   "outputs": [
    {
     "name": "stdout",
     "output_type": "stream",
     "text": [
      "1\n"
     ]
    }
   ],
   "source": [
    "class Demo:\n",
    "    def __init__(self):\n",
    "        self.a = 1\n",
    "        self.__b = 1\n",
    "        \n",
    "    def get(self):\n",
    "        return self.__b\n",
    "    \n",
    "obj = Demo()\n",
    "print(obj.get())"
   ]
  },
  {
   "cell_type": "code",
   "execution_count": 45,
   "id": "1abe568e",
   "metadata": {},
   "outputs": [
    {
     "name": "stdout",
     "output_type": "stream",
     "text": [
      "27 3 0 0\n"
     ]
    }
   ],
   "source": [
    "class Props:\n",
    "    def __init__(self, x, y):\n",
    "        self.x = x\n",
    "        self.y = y\n",
    "        \n",
    "class Ball(Props):\n",
    "    def __init__(self, x, y):\n",
    "        super().__init__(x, y)\n",
    "        self.shape = \"o\"\n",
    "        self.number = 1\n",
    "        self.vely = 0\n",
    "        self.velx = 0\n",
    "\n",
    "    def get_x(self):\n",
    "        return self.x\n",
    " \n",
    "    def get_y(self):\n",
    "        return self.y\n",
    "\n",
    "    def get_velx(self):\n",
    "        return self.velx\n",
    " \n",
    "    def get_vely(self):\n",
    "        return self.vely\n",
    "    \n",
    "    def inc_velx(self):\n",
    "        self.velx = self.velx+2\n",
    "    \n",
    "    def inc_vely(self):\n",
    "        self.vely = self.vely+1\n",
    "        \n",
    "obj_ball = Ball(27,3)\n",
    "\n",
    "bx = obj_ball.get_x()\n",
    "by = obj_ball.get_y()\n",
    "b_velx = obj_ball.get_velx()\n",
    "b_vely = obj_ball.get_vely()\n",
    "\n",
    "print(bx, by, b_velx, b_vely)"
   ]
  },
  {
   "cell_type": "code",
   "execution_count": 46,
   "id": "802070fd",
   "metadata": {},
   "outputs": [
    {
     "ename": "AttributeError",
     "evalue": "'Employee' object has no attribute '__salary'",
     "output_type": "error",
     "traceback": [
      "\u001b[1;31m---------------------------------------------------------------------------\u001b[0m",
      "\u001b[1;31mAttributeError\u001b[0m                            Traceback (most recent call last)",
      "Cell \u001b[1;32mIn[46], line 11\u001b[0m\n\u001b[0;32m      7\u001b[0m         \u001b[38;5;28mself\u001b[39m\u001b[38;5;241m.\u001b[39m__salary\u001b[38;5;241m=\u001b[39mval\n\u001b[0;32m      9\u001b[0m e1\u001b[38;5;241m=\u001b[39mEmployee(\u001b[38;5;124m\"\u001b[39m\u001b[38;5;124mRahul\u001b[39m\u001b[38;5;124m\"\u001b[39m,\u001b[38;5;241m200\u001b[39m)\n\u001b[1;32m---> 11\u001b[0m \u001b[38;5;28mprint\u001b[39m(\u001b[43me1\u001b[49m\u001b[38;5;241;43m.\u001b[39;49m\u001b[43m__salary\u001b[49m)\n",
      "\u001b[1;31mAttributeError\u001b[0m: 'Employee' object has no attribute '__salary'"
     ]
    }
   ],
   "source": [
    "class Employee:\n",
    "\n",
    "    def __init__(self, name, val):\n",
    "\n",
    "        self.__name=name\n",
    "\n",
    "        self.__salary=val\n",
    "\n",
    "e1=Employee(\"Rahul\",200)\n",
    "\n",
    "print(e1.__salary)\n",
    "\n",
    "# We used private modifiers which can only be access within the class, \n",
    "# but we are calling that member outside, Hence this code will throw an attribute error."
   ]
  },
  {
   "cell_type": "markdown",
   "id": "ba61d5c2",
   "metadata": {},
   "source": [
    "### Protected Members"
   ]
  },
  {
   "cell_type": "markdown",
   "id": "f1918798",
   "metadata": {},
   "source": [
    "**Protected members are accessible within class and it's sub-class**"
   ]
  },
  {
   "cell_type": "code",
   "execution_count": 47,
   "id": "41d9cf3d",
   "metadata": {},
   "outputs": [
    {
     "name": "stdout",
     "output_type": "stream",
     "text": [
      "200\n"
     ]
    }
   ],
   "source": [
    "class Employee:\n",
    "\n",
    "    def __init__(self, name, val):\n",
    "\n",
    "        self._name=name\n",
    "\n",
    "        self._salary=val\n",
    "\n",
    "e1=Employee(\"Rahul\",200)\n",
    "\n",
    "print(e1._salary)"
   ]
  },
  {
   "cell_type": "code",
   "execution_count": 48,
   "id": "a14dc4eb",
   "metadata": {},
   "outputs": [
    {
     "ename": "AttributeError",
     "evalue": "'Employee' object has no attribute 'salary'",
     "output_type": "error",
     "traceback": [
      "\u001b[1;31m---------------------------------------------------------------------------\u001b[0m",
      "\u001b[1;31mAttributeError\u001b[0m                            Traceback (most recent call last)",
      "Cell \u001b[1;32mIn[48], line 11\u001b[0m\n\u001b[0;32m      7\u001b[0m         \u001b[38;5;28mself\u001b[39m\u001b[38;5;241m.\u001b[39m_salary\u001b[38;5;241m=\u001b[39mval\n\u001b[0;32m      9\u001b[0m e1\u001b[38;5;241m=\u001b[39mEmployee(\u001b[38;5;124m\"\u001b[39m\u001b[38;5;124mRahul\u001b[39m\u001b[38;5;124m\"\u001b[39m,\u001b[38;5;241m200\u001b[39m)\n\u001b[1;32m---> 11\u001b[0m \u001b[38;5;28mprint\u001b[39m(\u001b[43me1\u001b[49m\u001b[38;5;241;43m.\u001b[39;49m\u001b[43msalary\u001b[49m)\n",
      "\u001b[1;31mAttributeError\u001b[0m: 'Employee' object has no attribute 'salary'"
     ]
    }
   ],
   "source": [
    "class Employee:\n",
    "\n",
    "    def __init__(self, name, val):\n",
    "\n",
    "        self._name=name\n",
    "\n",
    "        self._salary=val\n",
    "\n",
    "e1=Employee(\"Rahul\",200)\n",
    "\n",
    "print(e1.salary)\n",
    "\n",
    "# We defined salary with protected modifier \n",
    "# but called it like it is public which is simply an error, \n",
    "# hence this code will throw an attribute error."
   ]
  },
  {
   "cell_type": "markdown",
   "id": "b14a0f4d",
   "metadata": {},
   "source": [
    "# Inheritance"
   ]
  },
  {
   "cell_type": "markdown",
   "id": "acb4824d",
   "metadata": {},
   "source": [
    "![sample_image](https://github.com/Rohitkale-AIML/Python/blob/main/helper_images/Screenshot_Python_15.png?raw=true)"
   ]
  },
  {
   "cell_type": "markdown",
   "id": "73d9cca3",
   "metadata": {},
   "source": [
    "![sample_image](https://github.com/Rohitkale-AIML/Python/blob/main/helper_images/Screenshot_Python_16.png?raw=true)"
   ]
  },
  {
   "cell_type": "markdown",
   "id": "55148a12",
   "metadata": {},
   "source": [
    "## Single Inheritance"
   ]
  },
  {
   "cell_type": "markdown",
   "id": "0d745946",
   "metadata": {},
   "source": [
    "![sample_image](https://github.com/Rohitkale-AIML/Python/blob/main/helper_images/Screenshot_Python_17.png?raw=true)"
   ]
  },
  {
   "cell_type": "code",
   "execution_count": 49,
   "id": "39f8ed53",
   "metadata": {},
   "outputs": [
    {
     "name": "stdout",
     "output_type": "stream",
     "text": [
      "Insider vehicle class\n"
     ]
    },
    {
     "data": {
      "text/plain": [
       "4"
      ]
     },
     "execution_count": 49,
     "metadata": {},
     "output_type": "execute_result"
    }
   ],
   "source": [
    "class Vehicle:\n",
    "    wheels = 4\n",
    "    \n",
    "    def vehicle_info(self):\n",
    "        print(\"Insider vehicle class\")\n",
    "        \n",
    "class Car(Vehicle):\n",
    "    def car_info(self):\n",
    "        print(\"Insider car class\")\n",
    "        \n",
    "car = Car()\n",
    "car.vehicle_info()\n",
    "car.wheels"
   ]
  },
  {
   "cell_type": "markdown",
   "id": "b7531381",
   "metadata": {},
   "source": [
    "## Multiple Inheritance"
   ]
  },
  {
   "cell_type": "markdown",
   "id": "668911d3",
   "metadata": {},
   "source": [
    "![sample_image](https://github.com/Rohitkale-AIML/Python/blob/main/helper_images/Screenshot_Python_18.png?raw=true)"
   ]
  },
  {
   "cell_type": "code",
   "execution_count": 50,
   "id": "12d665d7",
   "metadata": {},
   "outputs": [],
   "source": [
    "class Person:\n",
    "    def person_info(self, name, age):\n",
    "        print(\"Name:\", name, \"Age:\", age)\n",
    "\n",
    "class Company:\n",
    "    def company_info(self, company_name, location):\n",
    "        print(\"Company Name:\", company_name, 'Location:', location, end=\" #\\n\")\n",
    "        \n",
    "class Employee(Person, Company):\n",
    "    def employee_info(self, salary, skill):\n",
    "        print(\"Salary:\", salary, 'Skill:', skill, end=\" $\\n\")\n",
    "\n",
    "emp = Employee()"
   ]
  },
  {
   "cell_type": "code",
   "execution_count": 51,
   "id": "ea4a50cc",
   "metadata": {},
   "outputs": [
    {
     "name": "stdout",
     "output_type": "stream",
     "text": [
      "Name: satish Age: 30\n",
      "Salary: 10000 Skill: Python programming $\n",
      "Company Name: Infosys Location: Pune #\n"
     ]
    }
   ],
   "source": [
    "emp.person_info(\"satish\", 30)\n",
    "emp.employee_info(10000, \"Python programming\")\n",
    "emp.company_info(\"Infosys\", \"Pune\")"
   ]
  },
  {
   "cell_type": "markdown",
   "id": "e215eb2e",
   "metadata": {},
   "source": [
    "## Multi-level Inheritance"
   ]
  },
  {
   "cell_type": "markdown",
   "id": "8e569c15",
   "metadata": {},
   "source": [
    "![sample_image](https://github.com/Rohitkale-AIML/Python/blob/main/helper_images/Screenshot_Python_19.png?raw=true)"
   ]
  },
  {
   "cell_type": "code",
   "execution_count": 52,
   "id": "4ab86350",
   "metadata": {},
   "outputs": [
    {
     "name": "stdout",
     "output_type": "stream",
     "text": [
      "Insider vehicle class\n"
     ]
    }
   ],
   "source": [
    "class Vehicle:\n",
    "    def vehicle_info(self):\n",
    "        print(\"Insider vehicle class\")\n",
    "        \n",
    "class Car(Vehicle):\n",
    "    def car_info(self):\n",
    "        print(\"Insider car class\")\n",
    "        \n",
    "class SportsCar(Car):\n",
    "    def sports_car_info(self):\n",
    "        print(\"Insider sports car\")\n",
    "\n",
    "s = SportsCar()\n",
    "s.vehicle_info()"
   ]
  },
  {
   "cell_type": "markdown",
   "id": "ecb70556",
   "metadata": {},
   "source": [
    "## Hirearchical Inheritance"
   ]
  },
  {
   "cell_type": "markdown",
   "id": "605d72c0",
   "metadata": {},
   "source": [
    "![sample_image](https://github.com/Rohitkale-AIML/Python/blob/main/helper_images/Screenshot_Python_20.png?raw=true)"
   ]
  },
  {
   "cell_type": "code",
   "execution_count": 53,
   "id": "b853e965",
   "metadata": {},
   "outputs": [],
   "source": [
    "class Vehicle:\n",
    "    def vehicle_info(self):\n",
    "        print(\"Insider vehicle class\")\n",
    "        \n",
    "class Car(Vehicle):\n",
    "    def car_info(self):\n",
    "        print(\"Insider car class\")\n",
    "        \n",
    "class Truck(Vehicle):\n",
    "    def truck_info(self, name):\n",
    "        print(\"Truck name\", name)"
   ]
  },
  {
   "cell_type": "code",
   "execution_count": 54,
   "id": "70cbf6d2",
   "metadata": {},
   "outputs": [
    {
     "name": "stdout",
     "output_type": "stream",
     "text": [
      "Insider vehicle class\n"
     ]
    }
   ],
   "source": [
    "c1 = Car()\n",
    "c1.vehicle_info()"
   ]
  },
  {
   "cell_type": "code",
   "execution_count": 55,
   "id": "7b5bb7d2",
   "metadata": {},
   "outputs": [
    {
     "name": "stdout",
     "output_type": "stream",
     "text": [
      "Insider vehicle class\n"
     ]
    }
   ],
   "source": [
    "t = Truck()\n",
    "t.vehicle_info()"
   ]
  },
  {
   "cell_type": "markdown",
   "id": "b7ecf386",
   "metadata": {},
   "source": [
    "## Hybrid Inheritance"
   ]
  },
  {
   "cell_type": "markdown",
   "id": "d0371d5a",
   "metadata": {},
   "source": [
    "![sample_image](https://github.com/Rohitkale-AIML/Python/blob/main/helper_images/Screenshot_Python_21.png?raw=true)"
   ]
  },
  {
   "cell_type": "code",
   "execution_count": 56,
   "id": "f6819958",
   "metadata": {},
   "outputs": [
    {
     "name": "stdout",
     "output_type": "stream",
     "text": [
      "Insider car class\n"
     ]
    }
   ],
   "source": [
    "class Vehicle:\n",
    "    def vehicle_info(self):\n",
    "        print(\"Insider vehicle class\")\n",
    "\n",
    "class Car(Vehicle):\n",
    "    def car_info(self):\n",
    "        print(\"Insider car class\")\n",
    "\n",
    "class Truck(Vehicle):\n",
    "    def truck_info(self, name):\n",
    "        print(\"Truck name\", name)\n",
    "\n",
    "class SportsCar(Car, Vehicle): # order of class is important here\n",
    "    def sports_car_info(self):\n",
    "        print(\"Insider the sports car\")\n",
    "\n",
    "s = SportsCar()\n",
    "s.car_info()"
   ]
  },
  {
   "cell_type": "markdown",
   "id": "effce0ff",
   "metadata": {},
   "source": [
    "## super() method"
   ]
  },
  {
   "cell_type": "markdown",
   "id": "ef9ea323",
   "metadata": {},
   "source": [
    "**Accessing Parent Class Methods**"
   ]
  },
  {
   "cell_type": "code",
   "execution_count": 57,
   "id": "2cabe832",
   "metadata": {},
   "outputs": [
    {
     "name": "stdout",
     "output_type": "stream",
     "text": [
      "Google\n"
     ]
    }
   ],
   "source": [
    "class Company:\n",
    "    def company_name(self):\n",
    "        return 'Google'\n",
    "    \n",
    "class Employee(Company):\n",
    "    def info(self):\n",
    "        c_name = super().company_name()\n",
    "        print(c_name)\n",
    "\n",
    "emp = Employee()\n",
    "emp.info()"
   ]
  },
  {
   "cell_type": "code",
   "execution_count": 58,
   "id": "958d5f91",
   "metadata": {},
   "outputs": [
    {
     "name": "stdout",
     "output_type": "stream",
     "text": [
      "Display method in Parent class\n",
      "Display method in Child class\n"
     ]
    }
   ],
   "source": [
    "class Parent:\n",
    "    def display(self):\n",
    "        print(\"Display method in Parent class\")\n",
    "\n",
    "class Child(Parent):\n",
    "    def display(self):\n",
    "        super().display()  # Calling display method from the Parent class\n",
    "        print(\"Display method in Child class\")\n",
    "\n",
    "obj = Child()\n",
    "obj.display()"
   ]
  },
  {
   "cell_type": "markdown",
   "id": "8d9a82af",
   "metadata": {},
   "source": [
    "**Passing Arguments to Parent Class**"
   ]
  },
  {
   "cell_type": "code",
   "execution_count": 59,
   "id": "d826d754",
   "metadata": {},
   "outputs": [
    {
     "data": {
      "text/plain": [
       "'Alice'"
      ]
     },
     "execution_count": 59,
     "metadata": {},
     "output_type": "execute_result"
    }
   ],
   "source": [
    "class Parent:\n",
    "    def __init__(self, name):\n",
    "        self.name = name\n",
    "\n",
    "class Child(Parent):\n",
    "    def __init__(self, name, age):\n",
    "        super().__init__(name)  # Passing 'name' to the constructor of the Parent class\n",
    "        self.age = age\n",
    "\n",
    "obj = Child(\"Alice\", 25)\n",
    "obj.name"
   ]
  },
  {
   "cell_type": "code",
   "execution_count": 60,
   "id": "3309ff89",
   "metadata": {},
   "outputs": [
    {
     "name": "stdout",
     "output_type": "stream",
     "text": [
      "60\n"
     ]
    }
   ],
   "source": [
    "class Parent:\n",
    "    def __init__(self):\n",
    "        pass\n",
    "    def print(self):\n",
    "        print(\"60\")\n",
    "\n",
    "class Child(Parent):\n",
    "    def __init__(self):\n",
    "        super().__init__()        \n",
    "    def type(self):\n",
    "        self.print()\n",
    "\n",
    "C=Child()\n",
    "C.type()"
   ]
  },
  {
   "cell_type": "code",
   "execution_count": 61,
   "id": "5127bf96",
   "metadata": {},
   "outputs": [
    {
     "name": "stdout",
     "output_type": "stream",
     "text": [
      "60\n"
     ]
    }
   ],
   "source": [
    "class Parent:\n",
    "    def __init__(self):\n",
    "        pass\n",
    "    def print(self):\n",
    "        print(\"60\")\n",
    "\n",
    "class Child(Parent):\n",
    "    def __init__(self):\n",
    "        super().__init__()\n",
    "    def type(self):\n",
    "        super().print()\n",
    "\n",
    "C=Child()\n",
    "C.type()"
   ]
  },
  {
   "cell_type": "code",
   "execution_count": 62,
   "id": "9c3577ca",
   "metadata": {},
   "outputs": [
    {
     "name": "stdout",
     "output_type": "stream",
     "text": [
      "Name: Logistic Regression\n",
      "Category: Classification Algo\n",
      "Supervised Learning Algorithm\n",
      "Name: k-Means\n",
      "Category: Clustering Algo\n",
      "Unsupervised Learning Algorithm\n"
     ]
    }
   ],
   "source": [
    "class MachineLearning:\n",
    "    def __init__(self,name,category):\n",
    "        self.name=name\n",
    "        self.category=category\n",
    "\n",
    "    def getname(self):\n",
    "        return self.name\n",
    "\n",
    "    def getcategory(self):\n",
    "        return self.category\n",
    "\n",
    "    def print(self):\n",
    "        print(\"Name:\",self.name)\n",
    "        print(\"Category:\",self.category)\n",
    "\n",
    "class Supervised(MachineLearning):\n",
    "\n",
    "    def __init__(self,name,category):\n",
    "        super().__init__(name,category)\n",
    "\n",
    "    def type(self):\n",
    "        super().print()\n",
    "        print(\"Supervised Learning Algorithm\")\n",
    "\n",
    "class Unsupervised(MachineLearning):\n",
    "    def __init__(self,name,category):\n",
    "        super().__init__(name,category)\n",
    "    def type(self):\n",
    "        super().print()\n",
    "        print(\"Unsupervised Learning Algorithm\")\n",
    "\n",
    "def mlAnalogy(a,b,c,d):\n",
    "    '''input=> a,b = name and category for Supervised class\n",
    "               c,d = name and category for Unsupervised class\n",
    "      output=> type() is called for both classes in the end, \n",
    "               it should first print the Name and Category then the type of class in new lines\n",
    "    '''\n",
    "\n",
    "    obj1=Supervised(a,b)\n",
    "    obj1.type()\n",
    "    obj2=Unsupervised(c,d)\n",
    "    obj2.type()\n",
    "\n",
    "    return None\n",
    "\n",
    "mlAnalogy('Logistic Regression',\n",
    "          'Classification Algo',\n",
    "          'k-Means',\n",
    "          'Clustering Algo')"
   ]
  },
  {
   "cell_type": "code",
   "execution_count": 63,
   "id": "85c12aca",
   "metadata": {},
   "outputs": [
    {
     "name": "stdout",
     "output_type": "stream",
     "text": [
      "Animal is Here\n",
      "Animal Sounds\n",
      "Animal is Here\n",
      "Dog Barks\n",
      "Cat Meows\n"
     ]
    }
   ],
   "source": [
    "class Animal:\n",
    "    def __init__(self):\n",
    "        print(\"Animal is Here\")\n",
    "\n",
    "    def sound(self):\n",
    "        print(\"Animal Sounds\")\n",
    "\n",
    "# Define class Dog\n",
    "class Dog(Animal):\n",
    "    def __init__(self, name, breed):\n",
    "        super().__init__()\n",
    "        self.name = name\n",
    "        self.breed = breed\n",
    "\n",
    "    def getname(self):\n",
    "        return name\n",
    "\n",
    "    def getbreed(self):\n",
    "        return breed\n",
    "\n",
    "    def sound(self):\n",
    "        print(\"Dog Barks\")\n",
    "\n",
    "# Define class Cat\n",
    "class Cat(Animal):\n",
    "    def __init__(self, name, breed):\n",
    "        self.name = name\n",
    "        self.breed = breed\n",
    "\n",
    "    def getname(self):\n",
    "        return name\n",
    "\n",
    "    def getbreed(self):\n",
    "        return breed\n",
    "\n",
    "    def sound(self):\n",
    "        print(\"Cat Meows\")\n",
    "\n",
    "\n",
    "def main():\n",
    "# Create the instances for the classes here\n",
    "    A1 = Animal()\n",
    "    A1.sound()\n",
    "    D1 = Dog(\"Bolt\", \"Doberman\")\n",
    "    D1.sound()\n",
    "    C1 = Cat(\"Robin\", \"Persian\")\n",
    "    C1.sound()\n",
    "    \n",
    "main()"
   ]
  },
  {
   "cell_type": "markdown",
   "id": "11a8fa5f",
   "metadata": {},
   "source": [
    "## issubclass()"
   ]
  },
  {
   "cell_type": "markdown",
   "id": "59d8e3b6",
   "metadata": {},
   "source": [
    "To verify whether a perticular class is a subclass of another class or not?"
   ]
  },
  {
   "cell_type": "code",
   "execution_count": 64,
   "id": "8f4d9eba",
   "metadata": {},
   "outputs": [
    {
     "name": "stdout",
     "output_type": "stream",
     "text": [
      "True\n"
     ]
    }
   ],
   "source": [
    "class Animal:\n",
    "    pass\n",
    "\n",
    "class Mammal(Animal):\n",
    "    pass\n",
    "\n",
    "class Dog(Mammal):\n",
    "    pass\n",
    "\n",
    "# Check if Dog is a subclass of Animal\n",
    "result = issubclass(Dog, Animal)\n",
    "print(result)"
   ]
  },
  {
   "cell_type": "markdown",
   "id": "dbd338ab",
   "metadata": {},
   "source": [
    "## Method Over Riding (Method Resolution Order)"
   ]
  },
  {
   "cell_type": "markdown",
   "id": "6e99a9c7",
   "metadata": {},
   "source": [
    "- Method overriding in Python refers to the ability of a subclass to provide a specific implementation for a method that is already defined in its superclass. This allows a subclass to customize or extend the behavior of the inherited method.\n",
    "\n",
    "- The Method Resolution Order (MRO) in Python determines the sequence in which base classes are searched when looking for a method in the hierarchy. It follows a depth-first, left-to-right approach"
   ]
  },
  {
   "cell_type": "code",
   "execution_count": 65,
   "id": "3f539b6b",
   "metadata": {},
   "outputs": [
    {
     "name": "stdout",
     "output_type": "stream",
     "text": [
      "max speed is 200 km/ Hour\n",
      "max speed is 200 km/ Hour\n",
      "None\n"
     ]
    }
   ],
   "source": [
    "class Vehicle:\n",
    "    def max_speed(self):\n",
    "        print(\"max speed is 100km/Hour\")\n",
    "\n",
    "class Car(Vehicle):\n",
    "    def f(self):\n",
    "        print(self.max_speed())\n",
    "        \n",
    "    def max_speed(self):\n",
    "        print(\"max speed is 200 km/ Hour\")\n",
    "        \n",
    "c = Car()\n",
    "c.max_speed()\n",
    "c.f()"
   ]
  },
  {
   "cell_type": "code",
   "execution_count": 66,
   "id": "1bb28d72",
   "metadata": {},
   "outputs": [
    {
     "name": "stdout",
     "output_type": "stream",
     "text": [
      "Dog barks\n"
     ]
    }
   ],
   "source": [
    "class Animal:\n",
    "    def speak(self):\n",
    "        print(\"Animal speaks\")\n",
    "\n",
    "class Dog(Animal):\n",
    "    def speak(self):\n",
    "        print(\"Dog barks\")\n",
    "\n",
    "dog_instance = Dog()\n",
    "dog_instance.speak()"
   ]
  },
  {
   "cell_type": "code",
   "execution_count": 67,
   "id": "ec3ae1cc",
   "metadata": {},
   "outputs": [
    {
     "name": "stdout",
     "output_type": "stream",
     "text": [
      "B\n"
     ]
    }
   ],
   "source": [
    "class A:\n",
    "    def one(self):\n",
    "        return self.two()\n",
    "    def two(self):\n",
    "        return 'A'\n",
    "class B(A):\n",
    "    def two(self):\n",
    "        return 'B'\n",
    "    \n",
    "obj= B()\n",
    "print(obj.one())"
   ]
  },
  {
   "cell_type": "code",
   "execution_count": 68,
   "id": "846bcc22",
   "metadata": {},
   "outputs": [
    {
     "name": "stdout",
     "output_type": "stream",
     "text": [
      "30\n"
     ]
    }
   ],
   "source": [
    "class A:\n",
    "    def __init__(self):\n",
    "        self.multiply(15)\n",
    "        print(self.i)\n",
    "\n",
    "    def multiply(self, i):\n",
    "        self.i = 4 * i\n",
    "\n",
    "class B(A):\n",
    "    def __init__(self):\n",
    "        super().__init__()\n",
    "\n",
    "    def multiply(self, i):\n",
    "        self.i = 2 * i;\n",
    "\n",
    "obj = B()"
   ]
  },
  {
   "cell_type": "code",
   "execution_count": 69,
   "id": "42432658",
   "metadata": {},
   "outputs": [
    {
     "name": "stdout",
     "output_type": "stream",
     "text": [
      "AI's check ML's check "
     ]
    }
   ],
   "source": [
    "class AI:\n",
    "    def check(self):\n",
    "        return \"AI's check\"\n",
    "    def display(self):\n",
    "        print(self.check(),end=\" \")\n",
    "\n",
    "class ML(AI):\n",
    "    def check(self):\n",
    "        return \"ML's check\"\n",
    "\n",
    "AI().display()\n",
    "ML().display()"
   ]
  },
  {
   "cell_type": "code",
   "execution_count": 70,
   "id": "81117c4e",
   "metadata": {},
   "outputs": [
    {
     "name": "stdout",
     "output_type": "stream",
     "text": [
      "Rachel says, Grrrr!\n"
     ]
    }
   ],
   "source": [
    "class A:\n",
    "    def __init__(self, name, sound=\"Grrrr\"):\n",
    "        self.name = name\n",
    "        self.sound = sound\n",
    "\n",
    "    def make_noise(self):\n",
    "        print(\"{} says, {}\".format(self.name,self.sound))\n",
    "\n",
    "class B(A):\n",
    "    def __init__(self, name=\"Rachel\"):\n",
    "        super().__init__(name, \"Meow!\")\n",
    "\n",
    "    def make_noise(self,sound=\"Grrrr!\"):\n",
    "        print(\"{} says, {}\".format(self.name, sound))\n",
    "\n",
    "pet_cat = B()\n",
    "pet_cat.make_noise() # no arg passed & method over ride"
   ]
  },
  {
   "cell_type": "markdown",
   "id": "cfc178d4",
   "metadata": {},
   "source": [
    "# Use Case: Bank Account System"
   ]
  },
  {
   "cell_type": "code",
   "execution_count": 71,
   "id": "1ca06597",
   "metadata": {},
   "outputs": [],
   "source": [
    "class Account:\n",
    "    counter = 0\n",
    "    \n",
    "    def __init__(self, openingBal=0):\n",
    "        Account.counter += 1\n",
    "        self.id = Account.counter\n",
    "        self.__bal = openingBal\n",
    "        self.passbook = []\n",
    "        self.numTrans = 0\n",
    "        self.maxTrans = 2\n",
    "        \n",
    "    # when print(obj) called by default __str__ will get execute     \n",
    "    def __str__(self):\n",
    "        if self.numTrans <= self.maxTrans:\n",
    "            return f\"Account {self.id} has Rs. {self.__bal}\"\n",
    "        else:\n",
    "            print(f\"Account {self.id} has reached max transactions limit of {self.maxTrans}\")\n",
    "            return f\"Account {self.id} has Rs. {self.__bal}\"\n",
    "    \n",
    "    def deposit(self, amount):\n",
    "        self.numTrans += 1\n",
    "        if amount > 0 and self.numTrans <= self.maxTrans:\n",
    "            self.__bal += amount\n",
    "            self.passbook.append(('credited', amount))\n",
    "\n",
    "    def withdraw(self, amount):\n",
    "        self.numTrans += 1\n",
    "        if self.__bal >= amount and amount > 0 and self.numTrans <= self.maxTrans:\n",
    "            self.__bal -= amount\n",
    "            self.passbook.append(('debited', amount))            \n",
    "            \n",
    "    def getInterest(self):\n",
    "        print(\"Returning Interest\")\n",
    "            \n",
    "class SavingsAccount(Account):\n",
    "    def __init__(self):\n",
    "        super().__init__()\n",
    "        \n",
    "    def getInterest(self):\n",
    "        interest = self.__bal * 0.05\n",
    "        print(f\"interest on account {self.id} is {interest}\")\n",
    "        \n",
    "class CurrentAccount(Account):\n",
    "    def __init__(self):\n",
    "        super().__init__()\n",
    "        self.maxTrans = 5\n",
    "        \n",
    "    def getInterest(self):\n",
    "        interest = self.__bal*0.01\n",
    "        print(f\"interest on account {self.id} is {interest}\")"
   ]
  },
  {
   "cell_type": "code",
   "execution_count": 72,
   "id": "705615a4",
   "metadata": {},
   "outputs": [
    {
     "name": "stdout",
     "output_type": "stream",
     "text": [
      "789456123\n",
      "Account 1 has Rs. 100\n",
      "Account 1 has Rs. 300\n",
      "Account 1 has reached max transactions limit of 2\n",
      "Account 1 has Rs. 300\n",
      "Account 2 has Rs. 0\n"
     ]
    }
   ],
   "source": [
    "sa1 = SavingsAccount()\n",
    "sa1.__bal = 789456123\n",
    "print(sa1.__bal)\n",
    "\n",
    "sa1.deposit(100)\n",
    "print(sa1)\n",
    "sa1.deposit(200)\n",
    "print(sa1)\n",
    "sa1.withdraw(100)\n",
    "print(sa1)\n",
    "\n",
    "ca1 = CurrentAccount()\n",
    "print(ca1)"
   ]
  },
  {
   "cell_type": "code",
   "execution_count": 73,
   "id": "26d34f69",
   "metadata": {},
   "outputs": [
    {
     "ename": "AttributeError",
     "evalue": "'SavingsAccount' object has no attribute '_SavingsAccount__bal'",
     "output_type": "error",
     "traceback": [
      "\u001b[1;31m---------------------------------------------------------------------------\u001b[0m",
      "\u001b[1;31mAttributeError\u001b[0m                            Traceback (most recent call last)",
      "Cell \u001b[1;32mIn[73], line 1\u001b[0m\n\u001b[1;32m----> 1\u001b[0m \u001b[43msa1\u001b[49m\u001b[38;5;241;43m.\u001b[39;49m\u001b[43mgetInterest\u001b[49m\u001b[43m(\u001b[49m\u001b[43m)\u001b[49m\n",
      "Cell \u001b[1;32mIn[71], line 40\u001b[0m, in \u001b[0;36mSavingsAccount.getInterest\u001b[1;34m(self)\u001b[0m\n\u001b[0;32m     39\u001b[0m \u001b[38;5;28;01mdef\u001b[39;00m \u001b[38;5;21mgetInterest\u001b[39m(\u001b[38;5;28mself\u001b[39m):\n\u001b[1;32m---> 40\u001b[0m     interest \u001b[38;5;241m=\u001b[39m \u001b[38;5;28;43mself\u001b[39;49m\u001b[38;5;241;43m.\u001b[39;49m\u001b[43m__bal\u001b[49m \u001b[38;5;241m*\u001b[39m \u001b[38;5;241m0.05\u001b[39m\n\u001b[0;32m     41\u001b[0m     \u001b[38;5;28mprint\u001b[39m(\u001b[38;5;124mf\u001b[39m\u001b[38;5;124m\"\u001b[39m\u001b[38;5;124minterest on account \u001b[39m\u001b[38;5;132;01m{\u001b[39;00m\u001b[38;5;28mself\u001b[39m\u001b[38;5;241m.\u001b[39mid\u001b[38;5;132;01m}\u001b[39;00m\u001b[38;5;124m is \u001b[39m\u001b[38;5;132;01m{\u001b[39;00minterest\u001b[38;5;132;01m}\u001b[39;00m\u001b[38;5;124m\"\u001b[39m)\n",
      "\u001b[1;31mAttributeError\u001b[0m: 'SavingsAccount' object has no attribute '_SavingsAccount__bal'"
     ]
    }
   ],
   "source": [
    "sa1.getInterest() # since __bal is private it is only accessible with class and not sub-class "
   ]
  },
  {
   "cell_type": "code",
   "execution_count": 74,
   "id": "df75f49b",
   "metadata": {},
   "outputs": [],
   "source": [
    "class Account:\n",
    "    counter = 0\n",
    "    \n",
    "    def __init__(self, openingBal=0):\n",
    "        Account.counter += 1\n",
    "        self.id = Account.counter\n",
    "        self._bal = openingBal\n",
    "        self.passbook = []\n",
    "        self.numTrans = 0\n",
    "        self.maxTrans = 2\n",
    "        \n",
    "    # when print(obj) called by default __str__ will get execute     \n",
    "    def __str__(self):\n",
    "        if self.numTrans <= self.maxTrans:\n",
    "            return f\"Account {self.id} has Rs. {self._bal}\"\n",
    "        else:\n",
    "            print(f\"Account {self.id} has reached max transactions limit of {self.maxTrans}\")\n",
    "            return f\"Account {self.id} has Rs. {self._bal}\"\n",
    "    \n",
    "    def deposit(self, amount):\n",
    "        self.numTrans += 1\n",
    "        if amount > 0 and self.numTrans <= self.maxTrans:\n",
    "            self._bal += amount\n",
    "            self.passbook.append(('credited', amount))\n",
    "\n",
    "    def withdraw(self, amount):\n",
    "        self.numTrans += 1\n",
    "        if self._bal >= amount and amount > 0 and self.numTrans <= self.maxTrans:\n",
    "            self._bal -= amount\n",
    "            self.passbook.append(('debited', amount))            \n",
    "            \n",
    "    def getInterest(self):\n",
    "        print(\"Returning Interest\")\n",
    "            \n",
    "class SavingsAccount(Account):\n",
    "    def __init__(self):\n",
    "        super().__init__()\n",
    "        \n",
    "    def getInterest(self):\n",
    "        interest = self._bal * 0.05\n",
    "        print(f\"interest on account {self.id} is {interest}\")\n",
    "        \n",
    "class CurrentAccount(Account):\n",
    "    def __init__(self):\n",
    "        super().__init__()\n",
    "        self.maxTrans = 5\n",
    "        \n",
    "    def getInterest(self):\n",
    "        interest = self._bal*0.01\n",
    "        print(f\"interest on account {self.id} is {interest}\")"
   ]
  },
  {
   "cell_type": "code",
   "execution_count": 75,
   "id": "83cec648",
   "metadata": {},
   "outputs": [
    {
     "name": "stdout",
     "output_type": "stream",
     "text": [
      "Account 1 has Rs. 100\n",
      "Account 1 has Rs. 300\n",
      "Account 1 has reached max transactions limit of 2\n",
      "Account 1 has Rs. 300\n",
      "Account 2 has Rs. 0\n",
      "100000\n",
      "interest on account 1 is 5000.0\n",
      "interest on account 2 is 0.0\n"
     ]
    }
   ],
   "source": [
    "sa1 = SavingsAccount()\n",
    "\n",
    "sa1.deposit(100)\n",
    "print(sa1)\n",
    "sa1.deposit(200)\n",
    "print(sa1)\n",
    "sa1.withdraw(100)\n",
    "print(sa1)\n",
    "\n",
    "ca1 = CurrentAccount()\n",
    "print(ca1)\n",
    "\n",
    "sa1._bal = 100000\n",
    "print(sa1._bal)\n",
    "\n",
    "sa1.getInterest() # since _bal is protected, it is now accessible with class and also with sub-class\n",
    "ca1.getInterest()"
   ]
  },
  {
   "cell_type": "markdown",
   "id": "af27f4ec",
   "metadata": {},
   "source": [
    "# Ploymorphism"
   ]
  },
  {
   "cell_type": "markdown",
   "id": "3fdb9ab6",
   "metadata": {},
   "source": [
    "![sample_image](https://github.com/Rohitkale-AIML/Python/blob/main/helper_images/Screenshot_Python_22.png?raw=true)"
   ]
  },
  {
   "cell_type": "code",
   "execution_count": 76,
   "id": "00ce9e90",
   "metadata": {},
   "outputs": [
    {
     "data": {
      "text/plain": [
       "9"
      ]
     },
     "execution_count": 76,
     "metadata": {},
     "output_type": "execute_result"
    }
   ],
   "source": [
    "4 + 5"
   ]
  },
  {
   "cell_type": "code",
   "execution_count": 77,
   "id": "6c4a55fc",
   "metadata": {},
   "outputs": [
    {
     "data": {
      "text/plain": [
       "'Hellosatish'"
      ]
     },
     "execution_count": 77,
     "metadata": {},
     "output_type": "execute_result"
    }
   ],
   "source": [
    "\"Hello\" + \"satish\""
   ]
  },
  {
   "cell_type": "code",
   "execution_count": 78,
   "id": "48b8892b",
   "metadata": {},
   "outputs": [
    {
     "data": {
      "text/plain": [
       "[1, 2, 3, 4, 5, 6]"
      ]
     },
     "execution_count": 78,
     "metadata": {},
     "output_type": "execute_result"
    }
   ],
   "source": [
    "[1, 2, 3] + [4, 5, 6]"
   ]
  },
  {
   "cell_type": "code",
   "execution_count": 79,
   "id": "960b5b31",
   "metadata": {},
   "outputs": [
    {
     "data": {
      "text/plain": [
       "11"
      ]
     },
     "execution_count": 79,
     "metadata": {},
     "output_type": "execute_result"
    }
   ],
   "source": [
    "len(\"hello world\")"
   ]
  },
  {
   "cell_type": "code",
   "execution_count": 80,
   "id": "e1f9973c",
   "metadata": {},
   "outputs": [
    {
     "data": {
      "text/plain": [
       "5"
      ]
     },
     "execution_count": 80,
     "metadata": {},
     "output_type": "execute_result"
    }
   ],
   "source": [
    "len({1, 2, 3, 2, 4, 5})"
   ]
  },
  {
   "cell_type": "code",
   "execution_count": 81,
   "id": "fc5a462e",
   "metadata": {},
   "outputs": [],
   "source": [
    "# getInterest() method in above class code is example of polymorphism"
   ]
  },
  {
   "cell_type": "code",
   "execution_count": 83,
   "id": "0c4dd577",
   "metadata": {},
   "outputs": [
    {
     "name": "stdout",
     "output_type": "stream",
     "text": [
      "True\n"
     ]
    }
   ],
   "source": [
    "# Python __eq__ method to define the equality logic for comparing two objects using the equal operator (==)\n",
    "class A:\n",
    "    def __init__(self, x, y):\n",
    "        self.x = x\n",
    "        self.y = y\n",
    "\n",
    "    def __str__(self):\n",
    "        return 1\n",
    "    \n",
    "    def __eq__(self, other):\n",
    "        return self.x * self.y == other.x * other.y\n",
    "\n",
    "obj1 = A(9, 8)\n",
    "obj2 = A(8, 9)\n",
    "print(obj1 == obj2)"
   ]
  }
 ],
 "metadata": {
  "kernelspec": {
   "display_name": "Python 3 (ipykernel)",
   "language": "python",
   "name": "python3"
  },
  "language_info": {
   "codemirror_mode": {
    "name": "ipython",
    "version": 3
   },
   "file_extension": ".py",
   "mimetype": "text/x-python",
   "name": "python",
   "nbconvert_exporter": "python",
   "pygments_lexer": "ipython3",
   "version": "3.9.16"
  }
 },
 "nbformat": 4,
 "nbformat_minor": 5
}
